{
 "cells": [
  {
   "cell_type": "markdown",
   "id": "b34ff6aa",
   "metadata": {},
   "source": [
    "# Problem Statement"
   ]
  },
  {
   "cell_type": "markdown",
   "id": "c5c6325c",
   "metadata": {},
   "source": [
    "Travelling through flights has become an integral part of today’s lifestyle as more and more people are opting for faster travelling options. The flight ticket prices increase or decrease every now and then depending on various factors like timing of the flights, destination, and duration of flights various occasions such as vacations or festive season. Therefore, having some basic idea of the flight fares before planning the trip will surely help many people save money and time"
   ]
  },
  {
   "cell_type": "code",
   "execution_count": 1,
   "id": "7841a6b9",
   "metadata": {},
   "outputs": [],
   "source": [
    "import pandas as pd\n",
    "import seaborn as sns\n",
    "import matplotlib.pyplot as plt\n",
    "import warnings\n",
    "warnings.filterwarnings(\"ignore\")\n",
    "import numpy as np\n",
    "import pickle\n",
    "from sklearn.preprocessing import LabelEncoder\n",
    "from sklearn.preprocessing import StandardScaler\n",
    "from sklearn.model_selection import train_test_split\n",
    "from sklearn.compose import ColumnTransformer\n",
    "from sklearn.preprocessing import OneHotEncoder\n",
    "from sklearn.metrics import mean_absolute_error , r2_score , mean_squared_error\n",
    "from sklearn.pipeline import Pipeline"
   ]
  },
  {
   "cell_type": "code",
   "execution_count": 2,
   "id": "0c34a40c",
   "metadata": {},
   "outputs": [],
   "source": [
    "train=pd.read_excel(r'C:\\Users\\Dr. Poonam\\Documents\\Priyanshu Gupta\\Machine Learning All Datasets\\Data_Train.xlsx')\n",
    "sample=pd.read_excel(r\"C:\\Users\\Dr. Poonam\\Documents\\Priyanshu Gupta\\Machine Learning All Datasets\\Sample_submission.xlsx\")"
   ]
  },
  {
   "cell_type": "code",
   "execution_count": 3,
   "id": "9db7f2c1",
   "metadata": {},
   "outputs": [],
   "source": [
    "test=pd.read_excel(r'C:\\Users\\Dr. Poonam\\Documents\\Priyanshu Gupta\\Machine Learning All Datasets\\Test_set.xlsx')"
   ]
  },
  {
   "cell_type": "code",
   "execution_count": 4,
   "id": "7f036afa",
   "metadata": {},
   "outputs": [
    {
     "data": {
      "text/html": [
       "<div>\n",
       "<style scoped>\n",
       "    .dataframe tbody tr th:only-of-type {\n",
       "        vertical-align: middle;\n",
       "    }\n",
       "\n",
       "    .dataframe tbody tr th {\n",
       "        vertical-align: top;\n",
       "    }\n",
       "\n",
       "    .dataframe thead th {\n",
       "        text-align: right;\n",
       "    }\n",
       "</style>\n",
       "<table border=\"1\" class=\"dataframe\">\n",
       "  <thead>\n",
       "    <tr style=\"text-align: right;\">\n",
       "      <th></th>\n",
       "      <th>Airline</th>\n",
       "      <th>Date_of_Journey</th>\n",
       "      <th>Source</th>\n",
       "      <th>Destination</th>\n",
       "      <th>Route</th>\n",
       "      <th>Dep_Time</th>\n",
       "      <th>Arrival_Time</th>\n",
       "      <th>Duration</th>\n",
       "      <th>Total_Stops</th>\n",
       "      <th>Additional_Info</th>\n",
       "      <th>Price</th>\n",
       "    </tr>\n",
       "  </thead>\n",
       "  <tbody>\n",
       "    <tr>\n",
       "      <th>0</th>\n",
       "      <td>IndiGo</td>\n",
       "      <td>24/03/2019</td>\n",
       "      <td>Banglore</td>\n",
       "      <td>New Delhi</td>\n",
       "      <td>BLR → DEL</td>\n",
       "      <td>22:20</td>\n",
       "      <td>01:10 22 Mar</td>\n",
       "      <td>2h 50m</td>\n",
       "      <td>non-stop</td>\n",
       "      <td>No info</td>\n",
       "      <td>3897</td>\n",
       "    </tr>\n",
       "    <tr>\n",
       "      <th>1</th>\n",
       "      <td>Air India</td>\n",
       "      <td>1/05/2019</td>\n",
       "      <td>Kolkata</td>\n",
       "      <td>Banglore</td>\n",
       "      <td>CCU → IXR → BBI → BLR</td>\n",
       "      <td>05:50</td>\n",
       "      <td>13:15</td>\n",
       "      <td>7h 25m</td>\n",
       "      <td>2 stops</td>\n",
       "      <td>No info</td>\n",
       "      <td>7662</td>\n",
       "    </tr>\n",
       "    <tr>\n",
       "      <th>2</th>\n",
       "      <td>Jet Airways</td>\n",
       "      <td>9/06/2019</td>\n",
       "      <td>Delhi</td>\n",
       "      <td>Cochin</td>\n",
       "      <td>DEL → LKO → BOM → COK</td>\n",
       "      <td>09:25</td>\n",
       "      <td>04:25 10 Jun</td>\n",
       "      <td>19h</td>\n",
       "      <td>2 stops</td>\n",
       "      <td>No info</td>\n",
       "      <td>13882</td>\n",
       "    </tr>\n",
       "    <tr>\n",
       "      <th>3</th>\n",
       "      <td>IndiGo</td>\n",
       "      <td>12/05/2019</td>\n",
       "      <td>Kolkata</td>\n",
       "      <td>Banglore</td>\n",
       "      <td>CCU → NAG → BLR</td>\n",
       "      <td>18:05</td>\n",
       "      <td>23:30</td>\n",
       "      <td>5h 25m</td>\n",
       "      <td>1 stop</td>\n",
       "      <td>No info</td>\n",
       "      <td>6218</td>\n",
       "    </tr>\n",
       "    <tr>\n",
       "      <th>4</th>\n",
       "      <td>IndiGo</td>\n",
       "      <td>01/03/2019</td>\n",
       "      <td>Banglore</td>\n",
       "      <td>New Delhi</td>\n",
       "      <td>BLR → NAG → DEL</td>\n",
       "      <td>16:50</td>\n",
       "      <td>21:35</td>\n",
       "      <td>4h 45m</td>\n",
       "      <td>1 stop</td>\n",
       "      <td>No info</td>\n",
       "      <td>13302</td>\n",
       "    </tr>\n",
       "  </tbody>\n",
       "</table>\n",
       "</div>"
      ],
      "text/plain": [
       "       Airline Date_of_Journey    Source Destination                  Route  \\\n",
       "0       IndiGo      24/03/2019  Banglore   New Delhi              BLR → DEL   \n",
       "1    Air India       1/05/2019   Kolkata    Banglore  CCU → IXR → BBI → BLR   \n",
       "2  Jet Airways       9/06/2019     Delhi      Cochin  DEL → LKO → BOM → COK   \n",
       "3       IndiGo      12/05/2019   Kolkata    Banglore        CCU → NAG → BLR   \n",
       "4       IndiGo      01/03/2019  Banglore   New Delhi        BLR → NAG → DEL   \n",
       "\n",
       "  Dep_Time  Arrival_Time Duration Total_Stops Additional_Info  Price  \n",
       "0    22:20  01:10 22 Mar   2h 50m    non-stop         No info   3897  \n",
       "1    05:50         13:15   7h 25m     2 stops         No info   7662  \n",
       "2    09:25  04:25 10 Jun      19h     2 stops         No info  13882  \n",
       "3    18:05         23:30   5h 25m      1 stop         No info   6218  \n",
       "4    16:50         21:35   4h 45m      1 stop         No info  13302  "
      ]
     },
     "execution_count": 4,
     "metadata": {},
     "output_type": "execute_result"
    }
   ],
   "source": [
    "train.head()"
   ]
  },
  {
   "cell_type": "code",
   "execution_count": 5,
   "id": "0bd471c1",
   "metadata": {},
   "outputs": [
    {
     "data": {
      "text/html": [
       "<div>\n",
       "<style scoped>\n",
       "    .dataframe tbody tr th:only-of-type {\n",
       "        vertical-align: middle;\n",
       "    }\n",
       "\n",
       "    .dataframe tbody tr th {\n",
       "        vertical-align: top;\n",
       "    }\n",
       "\n",
       "    .dataframe thead th {\n",
       "        text-align: right;\n",
       "    }\n",
       "</style>\n",
       "<table border=\"1\" class=\"dataframe\">\n",
       "  <thead>\n",
       "    <tr style=\"text-align: right;\">\n",
       "      <th></th>\n",
       "      <th>Airline</th>\n",
       "      <th>Date_of_Journey</th>\n",
       "      <th>Source</th>\n",
       "      <th>Destination</th>\n",
       "      <th>Route</th>\n",
       "      <th>Dep_Time</th>\n",
       "      <th>Arrival_Time</th>\n",
       "      <th>Duration</th>\n",
       "      <th>Total_Stops</th>\n",
       "      <th>Additional_Info</th>\n",
       "    </tr>\n",
       "  </thead>\n",
       "  <tbody>\n",
       "    <tr>\n",
       "      <th>0</th>\n",
       "      <td>Jet Airways</td>\n",
       "      <td>6/06/2019</td>\n",
       "      <td>Delhi</td>\n",
       "      <td>Cochin</td>\n",
       "      <td>DEL → BOM → COK</td>\n",
       "      <td>17:30</td>\n",
       "      <td>04:25 07 Jun</td>\n",
       "      <td>10h 55m</td>\n",
       "      <td>1 stop</td>\n",
       "      <td>No info</td>\n",
       "    </tr>\n",
       "    <tr>\n",
       "      <th>1</th>\n",
       "      <td>IndiGo</td>\n",
       "      <td>12/05/2019</td>\n",
       "      <td>Kolkata</td>\n",
       "      <td>Banglore</td>\n",
       "      <td>CCU → MAA → BLR</td>\n",
       "      <td>06:20</td>\n",
       "      <td>10:20</td>\n",
       "      <td>4h</td>\n",
       "      <td>1 stop</td>\n",
       "      <td>No info</td>\n",
       "    </tr>\n",
       "    <tr>\n",
       "      <th>2</th>\n",
       "      <td>Jet Airways</td>\n",
       "      <td>21/05/2019</td>\n",
       "      <td>Delhi</td>\n",
       "      <td>Cochin</td>\n",
       "      <td>DEL → BOM → COK</td>\n",
       "      <td>19:15</td>\n",
       "      <td>19:00 22 May</td>\n",
       "      <td>23h 45m</td>\n",
       "      <td>1 stop</td>\n",
       "      <td>In-flight meal not included</td>\n",
       "    </tr>\n",
       "    <tr>\n",
       "      <th>3</th>\n",
       "      <td>Multiple carriers</td>\n",
       "      <td>21/05/2019</td>\n",
       "      <td>Delhi</td>\n",
       "      <td>Cochin</td>\n",
       "      <td>DEL → BOM → COK</td>\n",
       "      <td>08:00</td>\n",
       "      <td>21:00</td>\n",
       "      <td>13h</td>\n",
       "      <td>1 stop</td>\n",
       "      <td>No info</td>\n",
       "    </tr>\n",
       "    <tr>\n",
       "      <th>4</th>\n",
       "      <td>Air Asia</td>\n",
       "      <td>24/06/2019</td>\n",
       "      <td>Banglore</td>\n",
       "      <td>Delhi</td>\n",
       "      <td>BLR → DEL</td>\n",
       "      <td>23:55</td>\n",
       "      <td>02:45 25 Jun</td>\n",
       "      <td>2h 50m</td>\n",
       "      <td>non-stop</td>\n",
       "      <td>No info</td>\n",
       "    </tr>\n",
       "  </tbody>\n",
       "</table>\n",
       "</div>"
      ],
      "text/plain": [
       "             Airline Date_of_Journey    Source Destination            Route  \\\n",
       "0        Jet Airways       6/06/2019     Delhi      Cochin  DEL → BOM → COK   \n",
       "1             IndiGo      12/05/2019   Kolkata    Banglore  CCU → MAA → BLR   \n",
       "2        Jet Airways      21/05/2019     Delhi      Cochin  DEL → BOM → COK   \n",
       "3  Multiple carriers      21/05/2019     Delhi      Cochin  DEL → BOM → COK   \n",
       "4           Air Asia      24/06/2019  Banglore       Delhi        BLR → DEL   \n",
       "\n",
       "  Dep_Time  Arrival_Time Duration Total_Stops              Additional_Info  \n",
       "0    17:30  04:25 07 Jun  10h 55m      1 stop                      No info  \n",
       "1    06:20         10:20       4h      1 stop                      No info  \n",
       "2    19:15  19:00 22 May  23h 45m      1 stop  In-flight meal not included  \n",
       "3    08:00         21:00      13h      1 stop                      No info  \n",
       "4    23:55  02:45 25 Jun   2h 50m    non-stop                      No info  "
      ]
     },
     "execution_count": 5,
     "metadata": {},
     "output_type": "execute_result"
    }
   ],
   "source": [
    "test.head()"
   ]
  },
  {
   "cell_type": "code",
   "execution_count": null,
   "id": "50464e2b",
   "metadata": {},
   "outputs": [],
   "source": []
  },
  {
   "cell_type": "code",
   "execution_count": 6,
   "id": "90c0eb1b",
   "metadata": {},
   "outputs": [
    {
     "name": "stdout",
     "output_type": "stream",
     "text": [
      "<class 'pandas.core.frame.DataFrame'>\n",
      "RangeIndex: 10683 entries, 0 to 10682\n",
      "Data columns (total 11 columns):\n",
      " #   Column           Non-Null Count  Dtype \n",
      "---  ------           --------------  ----- \n",
      " 0   Airline          10683 non-null  object\n",
      " 1   Date_of_Journey  10683 non-null  object\n",
      " 2   Source           10683 non-null  object\n",
      " 3   Destination      10683 non-null  object\n",
      " 4   Route            10682 non-null  object\n",
      " 5   Dep_Time         10683 non-null  object\n",
      " 6   Arrival_Time     10683 non-null  object\n",
      " 7   Duration         10683 non-null  object\n",
      " 8   Total_Stops      10682 non-null  object\n",
      " 9   Additional_Info  10683 non-null  object\n",
      " 10  Price            10683 non-null  int64 \n",
      "dtypes: int64(1), object(10)\n",
      "memory usage: 918.2+ KB\n"
     ]
    }
   ],
   "source": [
    "train.info()"
   ]
  },
  {
   "cell_type": "code",
   "execution_count": 7,
   "id": "71a0eedb",
   "metadata": {},
   "outputs": [
    {
     "name": "stdout",
     "output_type": "stream",
     "text": [
      "<class 'pandas.core.frame.DataFrame'>\n",
      "RangeIndex: 2671 entries, 0 to 2670\n",
      "Data columns (total 10 columns):\n",
      " #   Column           Non-Null Count  Dtype \n",
      "---  ------           --------------  ----- \n",
      " 0   Airline          2671 non-null   object\n",
      " 1   Date_of_Journey  2671 non-null   object\n",
      " 2   Source           2671 non-null   object\n",
      " 3   Destination      2671 non-null   object\n",
      " 4   Route            2671 non-null   object\n",
      " 5   Dep_Time         2671 non-null   object\n",
      " 6   Arrival_Time     2671 non-null   object\n",
      " 7   Duration         2671 non-null   object\n",
      " 8   Total_Stops      2671 non-null   object\n",
      " 9   Additional_Info  2671 non-null   object\n",
      "dtypes: object(10)\n",
      "memory usage: 208.8+ KB\n"
     ]
    }
   ],
   "source": [
    "test.info()"
   ]
  },
  {
   "cell_type": "code",
   "execution_count": null,
   "id": "050304e0",
   "metadata": {},
   "outputs": [],
   "source": []
  },
  {
   "cell_type": "code",
   "execution_count": 8,
   "id": "89b2157d",
   "metadata": {},
   "outputs": [
    {
     "data": {
      "text/plain": [
       "((10683, 11), (2671, 10))"
      ]
     },
     "execution_count": 8,
     "metadata": {},
     "output_type": "execute_result"
    }
   ],
   "source": [
    "train.shape , test.shape"
   ]
  },
  {
   "cell_type": "code",
   "execution_count": 9,
   "id": "03f14495",
   "metadata": {},
   "outputs": [
    {
     "data": {
      "text/html": [
       "<div>\n",
       "<style scoped>\n",
       "    .dataframe tbody tr th:only-of-type {\n",
       "        vertical-align: middle;\n",
       "    }\n",
       "\n",
       "    .dataframe tbody tr th {\n",
       "        vertical-align: top;\n",
       "    }\n",
       "\n",
       "    .dataframe thead th {\n",
       "        text-align: right;\n",
       "    }\n",
       "</style>\n",
       "<table border=\"1\" class=\"dataframe\">\n",
       "  <thead>\n",
       "    <tr style=\"text-align: right;\">\n",
       "      <th></th>\n",
       "      <th>Airline</th>\n",
       "      <th>Date_of_Journey</th>\n",
       "      <th>Source</th>\n",
       "      <th>Destination</th>\n",
       "      <th>Route</th>\n",
       "      <th>Dep_Time</th>\n",
       "      <th>Arrival_Time</th>\n",
       "      <th>Duration</th>\n",
       "      <th>Total_Stops</th>\n",
       "      <th>Additional_Info</th>\n",
       "    </tr>\n",
       "  </thead>\n",
       "  <tbody>\n",
       "    <tr>\n",
       "      <th>count</th>\n",
       "      <td>2671</td>\n",
       "      <td>2671</td>\n",
       "      <td>2671</td>\n",
       "      <td>2671</td>\n",
       "      <td>2671</td>\n",
       "      <td>2671</td>\n",
       "      <td>2671</td>\n",
       "      <td>2671</td>\n",
       "      <td>2671</td>\n",
       "      <td>2671</td>\n",
       "    </tr>\n",
       "    <tr>\n",
       "      <th>unique</th>\n",
       "      <td>11</td>\n",
       "      <td>44</td>\n",
       "      <td>5</td>\n",
       "      <td>6</td>\n",
       "      <td>100</td>\n",
       "      <td>199</td>\n",
       "      <td>704</td>\n",
       "      <td>320</td>\n",
       "      <td>5</td>\n",
       "      <td>6</td>\n",
       "    </tr>\n",
       "    <tr>\n",
       "      <th>top</th>\n",
       "      <td>Jet Airways</td>\n",
       "      <td>9/05/2019</td>\n",
       "      <td>Delhi</td>\n",
       "      <td>Cochin</td>\n",
       "      <td>DEL → BOM → COK</td>\n",
       "      <td>10:00</td>\n",
       "      <td>19:00</td>\n",
       "      <td>2h 50m</td>\n",
       "      <td>1 stop</td>\n",
       "      <td>No info</td>\n",
       "    </tr>\n",
       "    <tr>\n",
       "      <th>freq</th>\n",
       "      <td>897</td>\n",
       "      <td>144</td>\n",
       "      <td>1145</td>\n",
       "      <td>1145</td>\n",
       "      <td>624</td>\n",
       "      <td>62</td>\n",
       "      <td>113</td>\n",
       "      <td>122</td>\n",
       "      <td>1431</td>\n",
       "      <td>2148</td>\n",
       "    </tr>\n",
       "  </tbody>\n",
       "</table>\n",
       "</div>"
      ],
      "text/plain": [
       "            Airline Date_of_Journey Source Destination            Route  \\\n",
       "count          2671            2671   2671        2671             2671   \n",
       "unique           11              44      5           6              100   \n",
       "top     Jet Airways       9/05/2019  Delhi      Cochin  DEL → BOM → COK   \n",
       "freq            897             144   1145        1145              624   \n",
       "\n",
       "       Dep_Time Arrival_Time Duration Total_Stops Additional_Info  \n",
       "count      2671         2671     2671        2671            2671  \n",
       "unique      199          704      320           5               6  \n",
       "top       10:00        19:00   2h 50m      1 stop         No info  \n",
       "freq         62          113      122        1431            2148  "
      ]
     },
     "execution_count": 9,
     "metadata": {},
     "output_type": "execute_result"
    }
   ],
   "source": [
    "test.describe()"
   ]
  },
  {
   "cell_type": "code",
   "execution_count": 10,
   "id": "9ed1537d",
   "metadata": {},
   "outputs": [
    {
     "data": {
      "text/html": [
       "<div>\n",
       "<style scoped>\n",
       "    .dataframe tbody tr th:only-of-type {\n",
       "        vertical-align: middle;\n",
       "    }\n",
       "\n",
       "    .dataframe tbody tr th {\n",
       "        vertical-align: top;\n",
       "    }\n",
       "\n",
       "    .dataframe thead th {\n",
       "        text-align: right;\n",
       "    }\n",
       "</style>\n",
       "<table border=\"1\" class=\"dataframe\">\n",
       "  <thead>\n",
       "    <tr style=\"text-align: right;\">\n",
       "      <th></th>\n",
       "      <th>Price</th>\n",
       "    </tr>\n",
       "  </thead>\n",
       "  <tbody>\n",
       "    <tr>\n",
       "      <th>count</th>\n",
       "      <td>10683.000000</td>\n",
       "    </tr>\n",
       "    <tr>\n",
       "      <th>mean</th>\n",
       "      <td>9087.064121</td>\n",
       "    </tr>\n",
       "    <tr>\n",
       "      <th>std</th>\n",
       "      <td>4611.359167</td>\n",
       "    </tr>\n",
       "    <tr>\n",
       "      <th>min</th>\n",
       "      <td>1759.000000</td>\n",
       "    </tr>\n",
       "    <tr>\n",
       "      <th>25%</th>\n",
       "      <td>5277.000000</td>\n",
       "    </tr>\n",
       "    <tr>\n",
       "      <th>50%</th>\n",
       "      <td>8372.000000</td>\n",
       "    </tr>\n",
       "    <tr>\n",
       "      <th>75%</th>\n",
       "      <td>12373.000000</td>\n",
       "    </tr>\n",
       "    <tr>\n",
       "      <th>max</th>\n",
       "      <td>79512.000000</td>\n",
       "    </tr>\n",
       "  </tbody>\n",
       "</table>\n",
       "</div>"
      ],
      "text/plain": [
       "              Price\n",
       "count  10683.000000\n",
       "mean    9087.064121\n",
       "std     4611.359167\n",
       "min     1759.000000\n",
       "25%     5277.000000\n",
       "50%     8372.000000\n",
       "75%    12373.000000\n",
       "max    79512.000000"
      ]
     },
     "execution_count": 10,
     "metadata": {},
     "output_type": "execute_result"
    }
   ],
   "source": [
    "train.describe()"
   ]
  },
  {
   "cell_type": "code",
   "execution_count": 11,
   "id": "ecfd5064",
   "metadata": {},
   "outputs": [
    {
     "data": {
      "text/plain": [
       "Airline            0\n",
       "Date_of_Journey    0\n",
       "Source             0\n",
       "Destination        0\n",
       "Route              0\n",
       "Dep_Time           0\n",
       "Arrival_Time       0\n",
       "Duration           0\n",
       "Total_Stops        0\n",
       "Additional_Info    0\n",
       "dtype: int64"
      ]
     },
     "execution_count": 11,
     "metadata": {},
     "output_type": "execute_result"
    }
   ],
   "source": [
    "test.isnull().sum()"
   ]
  },
  {
   "cell_type": "code",
   "execution_count": 12,
   "id": "794d04aa",
   "metadata": {},
   "outputs": [
    {
     "data": {
      "text/plain": [
       "Airline            0\n",
       "Date_of_Journey    0\n",
       "Source             0\n",
       "Destination        0\n",
       "Route              1\n",
       "Dep_Time           0\n",
       "Arrival_Time       0\n",
       "Duration           0\n",
       "Total_Stops        1\n",
       "Additional_Info    0\n",
       "Price              0\n",
       "dtype: int64"
      ]
     },
     "execution_count": 12,
     "metadata": {},
     "output_type": "execute_result"
    }
   ],
   "source": [
    "train.isnull().sum()"
   ]
  },
  {
   "cell_type": "code",
   "execution_count": null,
   "id": "2c874843",
   "metadata": {},
   "outputs": [],
   "source": []
  },
  {
   "cell_type": "code",
   "execution_count": 13,
   "id": "a5bccbc4",
   "metadata": {},
   "outputs": [],
   "source": [
    "# combine Both Datasets Together "
   ]
  },
  {
   "cell_type": "code",
   "execution_count": 14,
   "id": "04e0fb24",
   "metadata": {},
   "outputs": [
    {
     "data": {
      "text/plain": [
       "((10683, 11), (2671, 10))"
      ]
     },
     "execution_count": 14,
     "metadata": {},
     "output_type": "execute_result"
    }
   ],
   "source": [
    "train.shape , test.shape"
   ]
  },
  {
   "cell_type": "code",
   "execution_count": 15,
   "id": "387b2a16",
   "metadata": {},
   "outputs": [],
   "source": [
    "df=train.append(test)"
   ]
  },
  {
   "cell_type": "code",
   "execution_count": 16,
   "id": "1a7723d9",
   "metadata": {},
   "outputs": [
    {
     "data": {
      "text/html": [
       "<div>\n",
       "<style scoped>\n",
       "    .dataframe tbody tr th:only-of-type {\n",
       "        vertical-align: middle;\n",
       "    }\n",
       "\n",
       "    .dataframe tbody tr th {\n",
       "        vertical-align: top;\n",
       "    }\n",
       "\n",
       "    .dataframe thead th {\n",
       "        text-align: right;\n",
       "    }\n",
       "</style>\n",
       "<table border=\"1\" class=\"dataframe\">\n",
       "  <thead>\n",
       "    <tr style=\"text-align: right;\">\n",
       "      <th></th>\n",
       "      <th>Airline</th>\n",
       "      <th>Date_of_Journey</th>\n",
       "      <th>Source</th>\n",
       "      <th>Destination</th>\n",
       "      <th>Route</th>\n",
       "      <th>Dep_Time</th>\n",
       "      <th>Arrival_Time</th>\n",
       "      <th>Duration</th>\n",
       "      <th>Total_Stops</th>\n",
       "      <th>Additional_Info</th>\n",
       "      <th>Price</th>\n",
       "    </tr>\n",
       "  </thead>\n",
       "  <tbody>\n",
       "    <tr>\n",
       "      <th>0</th>\n",
       "      <td>IndiGo</td>\n",
       "      <td>24/03/2019</td>\n",
       "      <td>Banglore</td>\n",
       "      <td>New Delhi</td>\n",
       "      <td>BLR → DEL</td>\n",
       "      <td>22:20</td>\n",
       "      <td>01:10 22 Mar</td>\n",
       "      <td>2h 50m</td>\n",
       "      <td>non-stop</td>\n",
       "      <td>No info</td>\n",
       "      <td>3897.0</td>\n",
       "    </tr>\n",
       "  </tbody>\n",
       "</table>\n",
       "</div>"
      ],
      "text/plain": [
       "  Airline Date_of_Journey    Source Destination      Route Dep_Time  \\\n",
       "0  IndiGo      24/03/2019  Banglore   New Delhi  BLR → DEL    22:20   \n",
       "\n",
       "   Arrival_Time Duration Total_Stops Additional_Info   Price  \n",
       "0  01:10 22 Mar   2h 50m    non-stop         No info  3897.0  "
      ]
     },
     "execution_count": 16,
     "metadata": {},
     "output_type": "execute_result"
    }
   ],
   "source": [
    "df.head(1)"
   ]
  },
  {
   "cell_type": "code",
   "execution_count": 17,
   "id": "a9a1efdd",
   "metadata": {},
   "outputs": [],
   "source": [
    "df[\"day_of_Journey\"]=pd.to_datetime(df[\"Date_of_Journey\"]).dt.day\n",
    "df[\"month_of_Journey\"]=pd.to_datetime(df[\"Date_of_Journey\"]).dt.month\n"
   ]
  },
  {
   "cell_type": "code",
   "execution_count": 18,
   "id": "b0c1c055",
   "metadata": {},
   "outputs": [],
   "source": [
    "df[\"Dep_Hour\"]=pd.to_datetime(df[\"Dep_Time\"]).dt.hour\n",
    "df[\"Dep_minute\"]=pd.to_datetime(df[\"Dep_Time\"]).dt.minute"
   ]
  },
  {
   "cell_type": "code",
   "execution_count": 19,
   "id": "fa2dea0d",
   "metadata": {},
   "outputs": [],
   "source": [
    "df[\"Arrival_Time\"]=pd.to_datetime(df[\"Arrival_Time\"]).dt.hour\n",
    "df[\"Arrival_Time\"]=pd.to_datetime(df[\"Arrival_Time\"]).dt.minute"
   ]
  },
  {
   "cell_type": "code",
   "execution_count": 20,
   "id": "c7bf8e70",
   "metadata": {},
   "outputs": [],
   "source": [
    "def preprocessor(x):\n",
    "    if \"h\" not in x:\n",
    "        x=\"0h\"+\" \"+x\n",
    "    elif \"m\" not in x:\n",
    "        x= x+\" \"+\"0m\"\n",
    "    return x"
   ]
  },
  {
   "cell_type": "code",
   "execution_count": 21,
   "id": "5abd6a25",
   "metadata": {},
   "outputs": [],
   "source": [
    "df[\"Duration\"]=df[\"Duration\"].apply(preprocessor)"
   ]
  },
  {
   "cell_type": "code",
   "execution_count": 22,
   "id": "fdd9e9d1",
   "metadata": {},
   "outputs": [],
   "source": [
    "df[\"dur_hour\"]=df[\"Duration\"].apply(lambda x:x.split()[0])\n",
    "df[\"dur_min\"]=df[\"Duration\"].apply(lambda x:x.split()[1])\n",
    "df[\"dur_hour\"]=df[\"dur_hour\"].apply(lambda x:int(x.replace(\"h\" , \"\")))\n",
    "df[\"dur_min\"]=df[\"dur_min\"].apply(lambda x:int(x.replace(\"m\" , \"\")))"
   ]
  },
  {
   "cell_type": "code",
   "execution_count": 23,
   "id": "0d05e0c8",
   "metadata": {},
   "outputs": [],
   "source": [
    "df[\"dur_hour\"]=df[\"dur_hour\"].astype(object)\n",
    "df[\"dur_min\"]=df[\"dur_min\"].astype(object)"
   ]
  },
  {
   "cell_type": "code",
   "execution_count": 24,
   "id": "509465e1",
   "metadata": {},
   "outputs": [],
   "source": [
    "def change(x):\n",
    "    return str(x)"
   ]
  },
  {
   "cell_type": "code",
   "execution_count": 25,
   "id": "a47fe0de",
   "metadata": {},
   "outputs": [],
   "source": [
    "df[\"dur_hour\"]=df[\"dur_hour\"].apply(change)"
   ]
  },
  {
   "cell_type": "code",
   "execution_count": 26,
   "id": "474b769b",
   "metadata": {},
   "outputs": [],
   "source": [
    "df[\"dur_min\"]=df[\"dur_min\"].apply(change)"
   ]
  },
  {
   "cell_type": "code",
   "execution_count": 27,
   "id": "2fc2d39d",
   "metadata": {},
   "outputs": [],
   "source": [
    "df[\"Total_Hrs\"]=df[\"dur_hour\"]+\".\"+df[\"dur_min\"]"
   ]
  },
  {
   "cell_type": "code",
   "execution_count": 28,
   "id": "9de0e26f",
   "metadata": {},
   "outputs": [],
   "source": [
    "df[\"Total_Hrs\"]=df[\"dur_hour\"]+\".\"+df[\"dur_min\"]"
   ]
  },
  {
   "cell_type": "code",
   "execution_count": 29,
   "id": "a04e658b",
   "metadata": {},
   "outputs": [],
   "source": [
    "df[\"Total_Hrs\"]=df[\"Total_Hrs\"].astype(float)"
   ]
  },
  {
   "cell_type": "code",
   "execution_count": 30,
   "id": "bd35dfaa",
   "metadata": {},
   "outputs": [],
   "source": [
    "df[\"Total_Stops\"]=df[\"Total_Stops\"].replace({\"non-stop\":0 , \"1 stop\":1 , \"2 stops\":2, \"3 stops\":3 , \"4 stops\":4})"
   ]
  },
  {
   "cell_type": "markdown",
   "id": "bee273c6",
   "metadata": {},
   "source": [
    "# Exploratary Data Analysis"
   ]
  },
  {
   "cell_type": "code",
   "execution_count": 31,
   "id": "1f2de321",
   "metadata": {},
   "outputs": [],
   "source": [
    "count=df[\"Airline\"].value_counts()"
   ]
  },
  {
   "cell_type": "code",
   "execution_count": 32,
   "id": "63081996",
   "metadata": {},
   "outputs": [
    {
     "data": {
      "image/png": "[encoded data removed]",
      "text/plain": [
       "<Figure size 1008x504 with 2 Axes>"
      ]
     },
     "metadata": {
      "needs_background": "light"
     },
     "output_type": "display_data"
    }
   ],
   "source": [
    "plt.figure(figsize=(14,7))\n",
    "\n",
    "plt.subplot(1,2,1)\n",
    "sns.countplot(x=\"Airline\" , order=df[\"Airline\"].value_counts().index  , data=df)\n",
    "plt.title(\"Airline Distribution\" , fontweight=\"black\" , size=20 , pad=20)\n",
    "plt.xticks(rotation=90)\n",
    "\n",
    "plt.subplot(1,2,2)\n",
    "plt.pie(count.values , labels=count.index , autopct=\"%1.1f%%\" , colors=sns.set_palette(\"Set2\"))\n",
    "plt.title(\"Airline Distribution %\" , fontweight=\"black\" , size=20 , pad=20)\n",
    "\n",
    "plt.show()"
   ]
  },
  {
   "cell_type": "markdown",
   "id": "ef15aaeb",
   "metadata": {},
   "source": [
    "# 2 Airline Vs Price"
   ]
  },
  {
   "cell_type": "code",
   "execution_count": 33,
   "id": "d2060ee1",
   "metadata": {},
   "outputs": [],
   "source": [
    "temp1=df.groupby(\"Airline\")[\"Price\"].mean().reset_index().sort_values(\"Price\" , ascending=False)"
   ]
  },
  {
   "cell_type": "code",
   "execution_count": 34,
   "id": "9f59908b",
   "metadata": {},
   "outputs": [
    {
     "data": {
      "text/html": [
       "<div>\n",
       "<style scoped>\n",
       "    .dataframe tbody tr th:only-of-type {\n",
       "        vertical-align: middle;\n",
       "    }\n",
       "\n",
       "    .dataframe tbody tr th {\n",
       "        vertical-align: top;\n",
       "    }\n",
       "\n",
       "    .dataframe thead th {\n",
       "        text-align: right;\n",
       "    }\n",
       "</style>\n",
       "<table border=\"1\" class=\"dataframe\">\n",
       "  <thead>\n",
       "    <tr style=\"text-align: right;\">\n",
       "      <th></th>\n",
       "      <th>Airline</th>\n",
       "      <th>Price</th>\n",
       "    </tr>\n",
       "  </thead>\n",
       "  <tbody>\n",
       "    <tr>\n",
       "      <th>5</th>\n",
       "      <td>Jet Airways Business</td>\n",
       "      <td>58358.666667</td>\n",
       "    </tr>\n",
       "  </tbody>\n",
       "</table>\n",
       "</div>"
      ],
      "text/plain": [
       "                Airline         Price\n",
       "5  Jet Airways Business  58358.666667"
      ]
     },
     "execution_count": 34,
     "metadata": {},
     "output_type": "execute_result"
    }
   ],
   "source": [
    "temp1.head(1)"
   ]
  },
  {
   "cell_type": "code",
   "execution_count": 35,
   "id": "de5752e3",
   "metadata": {},
   "outputs": [
    {
     "data": {
      "image/png": "[encoded data removed]",
      "text/plain": [
       "<Figure size 1008x504 with 1 Axes>"
      ]
     },
     "metadata": {
      "needs_background": "light"
     },
     "output_type": "display_data"
    }
   ],
   "source": [
    "plt.figure(figsize=(14,7))\n",
    "sns.barplot(x=\"Airline\" , y=\"Price\" , data=temp1)\n",
    "plt.title(\"Airline VS Price\" , fontweight=\"black\" , pad=20  , size=20)\n",
    "plt.xticks(rotation=60)\n",
    "plt.show()"
   ]
  },
  {
   "cell_type": "code",
   "execution_count": 36,
   "id": "f6251495",
   "metadata": {},
   "outputs": [
    {
     "data": {
      "text/html": [
       "<div>\n",
       "<style scoped>\n",
       "    .dataframe tbody tr th:only-of-type {\n",
       "        vertical-align: middle;\n",
       "    }\n",
       "\n",
       "    .dataframe tbody tr th {\n",
       "        vertical-align: top;\n",
       "    }\n",
       "\n",
       "    .dataframe thead th {\n",
       "        text-align: right;\n",
       "    }\n",
       "</style>\n",
       "<table border=\"1\" class=\"dataframe\">\n",
       "  <thead>\n",
       "    <tr style=\"text-align: right;\">\n",
       "      <th></th>\n",
       "      <th>Airline</th>\n",
       "      <th>Price</th>\n",
       "    </tr>\n",
       "  </thead>\n",
       "  <tbody>\n",
       "    <tr>\n",
       "      <th>5</th>\n",
       "      <td>Jet Airways Business</td>\n",
       "      <td>58358.666667</td>\n",
       "    </tr>\n",
       "    <tr>\n",
       "      <th>4</th>\n",
       "      <td>Jet Airways</td>\n",
       "      <td>11643.923357</td>\n",
       "    </tr>\n",
       "    <tr>\n",
       "      <th>7</th>\n",
       "      <td>Multiple carriers Premium economy</td>\n",
       "      <td>11418.846154</td>\n",
       "    </tr>\n",
       "    <tr>\n",
       "      <th>6</th>\n",
       "      <td>Multiple carriers</td>\n",
       "      <td>10902.678094</td>\n",
       "    </tr>\n",
       "    <tr>\n",
       "      <th>1</th>\n",
       "      <td>Air India</td>\n",
       "      <td>9611.210616</td>\n",
       "    </tr>\n",
       "    <tr>\n",
       "      <th>11</th>\n",
       "      <td>Vistara Premium economy</td>\n",
       "      <td>8962.333333</td>\n",
       "    </tr>\n",
       "    <tr>\n",
       "      <th>10</th>\n",
       "      <td>Vistara</td>\n",
       "      <td>7796.348643</td>\n",
       "    </tr>\n",
       "    <tr>\n",
       "      <th>2</th>\n",
       "      <td>GoAir</td>\n",
       "      <td>5861.056701</td>\n",
       "    </tr>\n",
       "    <tr>\n",
       "      <th>3</th>\n",
       "      <td>IndiGo</td>\n",
       "      <td>5673.682903</td>\n",
       "    </tr>\n",
       "    <tr>\n",
       "      <th>0</th>\n",
       "      <td>Air Asia</td>\n",
       "      <td>5590.260188</td>\n",
       "    </tr>\n",
       "    <tr>\n",
       "      <th>8</th>\n",
       "      <td>SpiceJet</td>\n",
       "      <td>4338.284841</td>\n",
       "    </tr>\n",
       "    <tr>\n",
       "      <th>9</th>\n",
       "      <td>Trujet</td>\n",
       "      <td>4140.000000</td>\n",
       "    </tr>\n",
       "  </tbody>\n",
       "</table>\n",
       "</div>"
      ],
      "text/plain": [
       "                              Airline         Price\n",
       "5                Jet Airways Business  58358.666667\n",
       "4                         Jet Airways  11643.923357\n",
       "7   Multiple carriers Premium economy  11418.846154\n",
       "6                   Multiple carriers  10902.678094\n",
       "1                           Air India   9611.210616\n",
       "11            Vistara Premium economy   8962.333333\n",
       "10                            Vistara   7796.348643\n",
       "2                               GoAir   5861.056701\n",
       "3                              IndiGo   5673.682903\n",
       "0                            Air Asia   5590.260188\n",
       "8                            SpiceJet   4338.284841\n",
       "9                              Trujet   4140.000000"
      ]
     },
     "execution_count": 36,
     "metadata": {},
     "output_type": "execute_result"
    }
   ],
   "source": [
    "temp1"
   ]
  },
  {
   "cell_type": "code",
   "execution_count": 37,
   "id": "2e09b52e",
   "metadata": {},
   "outputs": [
    {
     "data": {
      "image/png": "[encoded data removed]",
      "text/plain": [
       "<Figure size 1728x576 with 1 Axes>"
      ]
     },
     "metadata": {
      "needs_background": "light"
     },
     "output_type": "display_data"
    }
   ],
   "source": [
    "sns.catplot(y=\"Price\" , x=\"Airline\" , data=temp1  , kind=\"boxen\" , height=8  , aspect=3)\n",
    "plt.show()"
   ]
  },
  {
   "cell_type": "code",
   "execution_count": null,
   "id": "d3b1ad27",
   "metadata": {},
   "outputs": [],
   "source": []
  },
  {
   "cell_type": "markdown",
   "id": "97a7a2ad",
   "metadata": {},
   "source": [
    "# 3.Visualiztion Source Features"
   ]
  },
  {
   "cell_type": "code",
   "execution_count": 38,
   "id": "b6c91d42",
   "metadata": {},
   "outputs": [],
   "source": [
    "def Plot(m):\n",
    "    plt.figure(figsize=(14,7))\n",
    "\n",
    "    plt.subplot(1,2,1)\n",
    "    sns.countplot(x=m , order=df[m].value_counts().index  , data=df)\n",
    "    plt.title(\"{} Distribution\".format(m) , fontweight=\"black\" , size=20 , pad=20)\n",
    "    plt.xticks(rotation=90)\n",
    "\n",
    "    plt.subplot(1,2,2)\n",
    "    plt.pie(df[m].value_counts().values , labels=df[m].value_counts().index , autopct=\"%1.1f%%\" , colors=sns.set_palette(\"Set2\"))\n",
    "    plt.title(\"{} Distribution %\".format(m) , fontweight=\"black\" , size=20 , pad=20)\n",
    "\n",
    "    plt.show()"
   ]
  },
  {
   "cell_type": "code",
   "execution_count": 39,
   "id": "0d44badb",
   "metadata": {},
   "outputs": [
    {
     "data": {
      "image/png": "[encoded data removed]",
      "text/plain": [
       "<Figure size 1008x504 with 2 Axes>"
      ]
     },
     "metadata": {
      "needs_background": "light"
     },
     "output_type": "display_data"
    }
   ],
   "source": [
    "Plot(\"Source\")"
   ]
  },
  {
   "cell_type": "markdown",
   "id": "6cf88216",
   "metadata": {},
   "source": [
    "# 4. Source Vs Price"
   ]
  },
  {
   "cell_type": "code",
   "execution_count": 40,
   "id": "1866cf19",
   "metadata": {},
   "outputs": [],
   "source": [
    "temp2=df.groupby(\"Source\")[\"Price\"].mean().reset_index().sort_values(\"Price\" , ascending=False)"
   ]
  },
  {
   "cell_type": "code",
   "execution_count": 41,
   "id": "f3b735c7",
   "metadata": {},
   "outputs": [
    {
     "data": {
      "image/png": "[encoded data removed]",
      "text/plain": [
       "<Figure size 864x504 with 1 Axes>"
      ]
     },
     "metadata": {
      "needs_background": "light"
     },
     "output_type": "display_data"
    }
   ],
   "source": [
    "plt.figure(figsize=(12,7))\n",
    "sns.barplot(x=\"Source\" , y=\"Price\" , data=temp2)\n",
    "plt.title(\"Source VS Price\" , fontweight=\"black\" , pad=20  , size=20)\n",
    "plt.xticks(rotation=60)\n",
    "plt.show()"
   ]
  },
  {
   "cell_type": "code",
   "execution_count": null,
   "id": "c5f8dfa3",
   "metadata": {},
   "outputs": [],
   "source": []
  },
  {
   "cell_type": "code",
   "execution_count": 42,
   "id": "32ee30cf",
   "metadata": {},
   "outputs": [
    {
     "data": {
      "text/plain": [
       "<seaborn.axisgrid.FacetGrid at 0x25190d5f070>"
      ]
     },
     "execution_count": 42,
     "metadata": {},
     "output_type": "execute_result"
    },
    {
     "data": {
      "image/png": "[encoded data removed]",
      "text/plain": [
       "<Figure size 360x360 with 1 Axes>"
      ]
     },
     "metadata": {
      "needs_background": "light"
     },
     "output_type": "display_data"
    }
   ],
   "source": [
    "sns.catplot(y=\"Price\" , x=\"Source\" , data=df , kind=\"violin\")"
   ]
  },
  {
   "cell_type": "markdown",
   "id": "3e2ad8ae",
   "metadata": {},
   "source": [
    "# Destination"
   ]
  },
  {
   "cell_type": "code",
   "execution_count": 43,
   "id": "d8292cf0",
   "metadata": {},
   "outputs": [
    {
     "data": {
      "image/png": "[encoded data removed]",
      "text/plain": [
       "<Figure size 1008x504 with 2 Axes>"
      ]
     },
     "metadata": {
      "needs_background": "light"
     },
     "output_type": "display_data"
    }
   ],
   "source": [
    "Plot(\"Destination\")"
   ]
  },
  {
   "cell_type": "markdown",
   "id": "c69765a9",
   "metadata": {},
   "source": [
    "# Destination VS Price"
   ]
  },
  {
   "cell_type": "code",
   "execution_count": 44,
   "id": "e381d0a9",
   "metadata": {},
   "outputs": [],
   "source": [
    "temp3=df.groupby(\"Destination\")[\"Price\"].mean().reset_index().sort_values(\"Price\" , ascending=False)"
   ]
  },
  {
   "cell_type": "code",
   "execution_count": 45,
   "id": "df31b202",
   "metadata": {},
   "outputs": [
    {
     "data": {
      "image/png": "[encoded data removed]",
      "text/plain": [
       "<Figure size 864x504 with 1 Axes>"
      ]
     },
     "metadata": {
      "needs_background": "light"
     },
     "output_type": "display_data"
    }
   ],
   "source": [
    "plt.figure(figsize=(12,7))\n",
    "sns.barplot(x=\"Destination\" , y=\"Price\" , data=temp3)\n",
    "plt.title(\"Destination VS Price\" , fontweight=\"black\" , pad=20  , size=20)\n",
    "plt.xticks(rotation=60)\n",
    "plt.show()"
   ]
  },
  {
   "cell_type": "markdown",
   "id": "d860d6eb",
   "metadata": {},
   "source": [
    "# Now Dep Hour"
   ]
  },
  {
   "cell_type": "code",
   "execution_count": 46,
   "id": "c56ce597",
   "metadata": {},
   "outputs": [
    {
     "data": {
      "text/html": [
       "<div>\n",
       "<style scoped>\n",
       "    .dataframe tbody tr th:only-of-type {\n",
       "        vertical-align: middle;\n",
       "    }\n",
       "\n",
       "    .dataframe tbody tr th {\n",
       "        vertical-align: top;\n",
       "    }\n",
       "\n",
       "    .dataframe thead th {\n",
       "        text-align: right;\n",
       "    }\n",
       "</style>\n",
       "<table border=\"1\" class=\"dataframe\">\n",
       "  <thead>\n",
       "    <tr style=\"text-align: right;\">\n",
       "      <th></th>\n",
       "      <th>Airline</th>\n",
       "      <th>Date_of_Journey</th>\n",
       "      <th>Source</th>\n",
       "      <th>Destination</th>\n",
       "      <th>Route</th>\n",
       "      <th>Dep_Time</th>\n",
       "      <th>Arrival_Time</th>\n",
       "      <th>Duration</th>\n",
       "      <th>Total_Stops</th>\n",
       "      <th>Additional_Info</th>\n",
       "      <th>Price</th>\n",
       "      <th>day_of_Journey</th>\n",
       "      <th>month_of_Journey</th>\n",
       "      <th>Dep_Hour</th>\n",
       "      <th>Dep_minute</th>\n",
       "      <th>dur_hour</th>\n",
       "      <th>dur_min</th>\n",
       "      <th>Total_Hrs</th>\n",
       "    </tr>\n",
       "  </thead>\n",
       "  <tbody>\n",
       "    <tr>\n",
       "      <th>0</th>\n",
       "      <td>IndiGo</td>\n",
       "      <td>24/03/2019</td>\n",
       "      <td>Banglore</td>\n",
       "      <td>New Delhi</td>\n",
       "      <td>BLR → DEL</td>\n",
       "      <td>22:20</td>\n",
       "      <td>0</td>\n",
       "      <td>2h 50m</td>\n",
       "      <td>0.0</td>\n",
       "      <td>No info</td>\n",
       "      <td>3897.0</td>\n",
       "      <td>24</td>\n",
       "      <td>3</td>\n",
       "      <td>22</td>\n",
       "      <td>20</td>\n",
       "      <td>2</td>\n",
       "      <td>50</td>\n",
       "      <td>2.5</td>\n",
       "    </tr>\n",
       "  </tbody>\n",
       "</table>\n",
       "</div>"
      ],
      "text/plain": [
       "  Airline Date_of_Journey    Source Destination      Route Dep_Time  \\\n",
       "0  IndiGo      24/03/2019  Banglore   New Delhi  BLR → DEL    22:20   \n",
       "\n",
       "   Arrival_Time Duration  Total_Stops Additional_Info   Price  day_of_Journey  \\\n",
       "0             0   2h 50m          0.0         No info  3897.0              24   \n",
       "\n",
       "   month_of_Journey  Dep_Hour  Dep_minute dur_hour dur_min  Total_Hrs  \n",
       "0                 3        22          20        2      50        2.5  "
      ]
     },
     "execution_count": 46,
     "metadata": {},
     "output_type": "execute_result"
    }
   ],
   "source": [
    "df.head(1)"
   ]
  },
  {
   "cell_type": "code",
   "execution_count": 47,
   "id": "36b2a0f9",
   "metadata": {},
   "outputs": [
    {
     "data": {
      "text/plain": [
       "0.006818893828434688"
      ]
     },
     "execution_count": 47,
     "metadata": {},
     "output_type": "execute_result"
    }
   ],
   "source": [
    "df.corr()[\"Dep_Hour\"][\"Price\"]"
   ]
  },
  {
   "cell_type": "code",
   "execution_count": 48,
   "id": "0f4c62f3",
   "metadata": {},
   "outputs": [
    {
     "data": {
      "text/plain": [
       "<Axes: xlabel='Dep_Hour', ylabel='Price'>"
      ]
     },
     "execution_count": 48,
     "metadata": {},
     "output_type": "execute_result"
    },
    {
     "data": {
      "image/png": "[encoded data removed]",
      "text/plain": [
       "<Figure size 432x288 with 1 Axes>"
      ]
     },
     "metadata": {
      "needs_background": "light"
     },
     "output_type": "display_data"
    }
   ],
   "source": [
    "sns.scatterplot(x=\"Dep_Hour\" , y=\"Price\" , data=df)"
   ]
  },
  {
   "cell_type": "code",
   "execution_count": 49,
   "id": "f9293883",
   "metadata": {},
   "outputs": [
    {
     "data": {
      "image/png": "[encoded data removed]",
      "text/plain": [
       "<Figure size 864x504 with 1 Axes>"
      ]
     },
     "metadata": {
      "needs_background": "light"
     },
     "output_type": "display_data"
    }
   ],
   "source": [
    "plt.figure(figsize=(12,7))\n",
    "sns.barplot(x=\"Dep_Hour\" , y=\"Price\" , data=df)\n",
    "plt.title(\"Dep_Hour VS Price\" , fontweight=\"black\" , pad=20  , size=20)\n",
    "plt.xticks(rotation=60)\n",
    "plt.show()"
   ]
  },
  {
   "cell_type": "markdown",
   "id": "84a8a6b4",
   "metadata": {},
   "source": [
    "# Total Stops Vs Price"
   ]
  },
  {
   "cell_type": "code",
   "execution_count": 50,
   "id": "bc577285",
   "metadata": {},
   "outputs": [
    {
     "data": {
      "image/png": "[encoded data removed]",
      "text/plain": [
       "<Figure size 576x360 with 1 Axes>"
      ]
     },
     "metadata": {
      "needs_background": "light"
     },
     "output_type": "display_data"
    }
   ],
   "source": [
    "plt.figure(figsize=(8,5))\n",
    "sns.barplot(x=\"Total_Stops\" , y=\"Price\" , data=df)\n",
    "plt.title(\"Total_Stops VS Price\" , fontweight=\"black\" , pad=20  , size=20)\n",
    "plt.xticks(rotation=60)\n",
    "plt.show()"
   ]
  },
  {
   "cell_type": "code",
   "execution_count": 51,
   "id": "d348a31c",
   "metadata": {},
   "outputs": [
    {
     "data": {
      "text/plain": [
       "0.603896908806721"
      ]
     },
     "execution_count": 51,
     "metadata": {},
     "output_type": "execute_result"
    }
   ],
   "source": [
    "df.corr()[\"Total_Stops\"][\"Price\"]"
   ]
  },
  {
   "cell_type": "markdown",
   "id": "649d10f2",
   "metadata": {},
   "source": [
    "# Duration vs Price"
   ]
  },
  {
   "cell_type": "code",
   "execution_count": 52,
   "id": "bfb7f320",
   "metadata": {},
   "outputs": [
    {
     "data": {
      "image/png": "[encoded data removed]",
      "text/plain": [
       "<Figure size 576x360 with 1 Axes>"
      ]
     },
     "metadata": {
      "needs_background": "light"
     },
     "output_type": "display_data"
    }
   ],
   "source": [
    "plt.figure(figsize=(8,5))\n",
    "sns.scatterplot(x=\"Total_Hrs\" , y=\"Price\" , data=df)\n",
    "plt.title(\"Total_Hrs VS Price\" , fontweight=\"black\" , pad=20  , size=20)\n",
    "plt.xticks(rotation=60)\n",
    "plt.show()"
   ]
  },
  {
   "cell_type": "code",
   "execution_count": 53,
   "id": "b33c7596",
   "metadata": {},
   "outputs": [
    {
     "data": {
      "text/plain": [
       "0.5078939780541636"
      ]
     },
     "execution_count": 53,
     "metadata": {},
     "output_type": "execute_result"
    }
   ],
   "source": [
    "df.corr()[\"Total_Hrs\"][\"Price\"]"
   ]
  },
  {
   "cell_type": "markdown",
   "id": "5ccb60c1",
   "metadata": {},
   "source": [
    "# Additional Info Vs Price"
   ]
  },
  {
   "cell_type": "code",
   "execution_count": 54,
   "id": "ad004d6e",
   "metadata": {},
   "outputs": [
    {
     "data": {
      "text/plain": [
       "array(['No info', 'In-flight meal not included',\n",
       "       'No check-in baggage included', '1 Short layover', 'No Info',\n",
       "       '1 Long layover', 'Change airports', 'Business class',\n",
       "       'Red-eye flight', '2 Long layover'], dtype=object)"
      ]
     },
     "execution_count": 54,
     "metadata": {},
     "output_type": "execute_result"
    }
   ],
   "source": [
    "df[\"Additional_Info\"].unique()"
   ]
  },
  {
   "cell_type": "code",
   "execution_count": 55,
   "id": "794c018f",
   "metadata": {},
   "outputs": [],
   "source": [
    "df[\"Additional_Info\"]=df[\"Additional_Info\"].replace(\"No info\" , \"No Info\")"
   ]
  },
  {
   "cell_type": "code",
   "execution_count": 56,
   "id": "c3842e92",
   "metadata": {},
   "outputs": [],
   "source": [
    "temp4=df.groupby(\"Additional_Info\")[\"Price\"].mean().reset_index().sort_values(\"Price\" , ascending=False)"
   ]
  },
  {
   "cell_type": "code",
   "execution_count": 57,
   "id": "051dee16",
   "metadata": {},
   "outputs": [
    {
     "data": {
      "image/png": "[encoded data removed]",
      "text/plain": [
       "<Figure size 576x360 with 1 Axes>"
      ]
     },
     "metadata": {
      "needs_background": "light"
     },
     "output_type": "display_data"
    }
   ],
   "source": [
    "plt.figure(figsize=(8,5))\n",
    "sns.barplot(x=\"Additional_Info\" , y=\"Price\" , data=temp4)\n",
    "plt.title(\"Additional Info VS Price\" , fontweight=\"black\" , pad=20  , size=20)\n",
    "plt.xticks(rotation=60)\n",
    "plt.show()"
   ]
  },
  {
   "cell_type": "markdown",
   "id": "baa85a7d",
   "metadata": {},
   "source": [
    "# Journey Day Vs Price"
   ]
  },
  {
   "cell_type": "code",
   "execution_count": 58,
   "id": "06c50bad",
   "metadata": {},
   "outputs": [
    {
     "data": {
      "image/png": "[encoded data removed]",
      "text/plain": [
       "<Figure size 576x360 with 1 Axes>"
      ]
     },
     "metadata": {
      "needs_background": "light"
     },
     "output_type": "display_data"
    }
   ],
   "source": [
    "plt.figure(figsize=(8,5))\n",
    "sns.barplot(x=\"day_of_Journey\" , y=\"Price\" , data=df)\n",
    "plt.title(\"Additional Info VS Price\" , fontweight=\"black\" , pad=20  , size=20)\n",
    "plt.xticks(rotation=60)\n",
    "plt.show()"
   ]
  },
  {
   "cell_type": "code",
   "execution_count": 59,
   "id": "f37dc043",
   "metadata": {},
   "outputs": [
    {
     "data": {
      "text/plain": [
       "<Axes: xlabel='day_of_Journey', ylabel='Price'>"
      ]
     },
     "execution_count": 59,
     "metadata": {},
     "output_type": "execute_result"
    },
    {
     "data": {
      "image/png": "[encoded data removed]",
      "text/plain": [
       "<Figure size 432x288 with 1 Axes>"
      ]
     },
     "metadata": {
      "needs_background": "light"
     },
     "output_type": "display_data"
    }
   ],
   "source": [
    "sns.scatterplot(x=\"day_of_Journey\" , y=\"Price\" , data=df)"
   ]
  },
  {
   "cell_type": "code",
   "execution_count": 60,
   "id": "18315535",
   "metadata": {},
   "outputs": [
    {
     "data": {
      "text/plain": [
       "-0.1654124963715763"
      ]
     },
     "execution_count": 60,
     "metadata": {},
     "output_type": "execute_result"
    }
   ],
   "source": [
    "df.corr()[\"Price\"][\"day_of_Journey\"]"
   ]
  },
  {
   "cell_type": "markdown",
   "id": "eecef3a9",
   "metadata": {},
   "source": [
    "# Month_Of_Journey"
   ]
  },
  {
   "cell_type": "code",
   "execution_count": 61,
   "id": "4d949b24",
   "metadata": {},
   "outputs": [
    {
     "data": {
      "image/png": "[encoded data removed]",
      "text/plain": [
       "<Figure size 576x360 with 1 Axes>"
      ]
     },
     "metadata": {
      "needs_background": "light"
     },
     "output_type": "display_data"
    }
   ],
   "source": [
    "plt.figure(figsize=(8,5))\n",
    "sns.barplot(x=\"month_of_Journey\" , y=\"Price\" , data=df)\n",
    "plt.title(\"Month_of_Journey VS Price\" , fontweight=\"black\" , pad=20  , size=20)\n",
    "plt.xticks(rotation=60)\n",
    "plt.show()"
   ]
  },
  {
   "cell_type": "code",
   "execution_count": 62,
   "id": "b3d21217",
   "metadata": {},
   "outputs": [
    {
     "data": {
      "text/plain": [
       "0.010700194346986297"
      ]
     },
     "execution_count": 62,
     "metadata": {},
     "output_type": "execute_result"
    }
   ],
   "source": [
    "df.corr()[\"Price\"][\"month_of_Journey\"]"
   ]
  },
  {
   "cell_type": "code",
   "execution_count": 63,
   "id": "e57368e2",
   "metadata": {},
   "outputs": [
    {
     "data": {
      "text/html": [
       "<div>\n",
       "<style scoped>\n",
       "    .dataframe tbody tr th:only-of-type {\n",
       "        vertical-align: middle;\n",
       "    }\n",
       "\n",
       "    .dataframe tbody tr th {\n",
       "        vertical-align: top;\n",
       "    }\n",
       "\n",
       "    .dataframe thead th {\n",
       "        text-align: right;\n",
       "    }\n",
       "</style>\n",
       "<table border=\"1\" class=\"dataframe\">\n",
       "  <thead>\n",
       "    <tr style=\"text-align: right;\">\n",
       "      <th></th>\n",
       "      <th>Airline</th>\n",
       "      <th>Date_of_Journey</th>\n",
       "      <th>Source</th>\n",
       "      <th>Destination</th>\n",
       "      <th>Route</th>\n",
       "      <th>Dep_Time</th>\n",
       "      <th>Arrival_Time</th>\n",
       "      <th>Duration</th>\n",
       "      <th>Total_Stops</th>\n",
       "      <th>Additional_Info</th>\n",
       "      <th>Price</th>\n",
       "      <th>day_of_Journey</th>\n",
       "      <th>month_of_Journey</th>\n",
       "      <th>Dep_Hour</th>\n",
       "      <th>Dep_minute</th>\n",
       "      <th>dur_hour</th>\n",
       "      <th>dur_min</th>\n",
       "      <th>Total_Hrs</th>\n",
       "    </tr>\n",
       "  </thead>\n",
       "  <tbody>\n",
       "    <tr>\n",
       "      <th>0</th>\n",
       "      <td>IndiGo</td>\n",
       "      <td>24/03/2019</td>\n",
       "      <td>Banglore</td>\n",
       "      <td>New Delhi</td>\n",
       "      <td>BLR → DEL</td>\n",
       "      <td>22:20</td>\n",
       "      <td>0</td>\n",
       "      <td>2h 50m</td>\n",
       "      <td>0.0</td>\n",
       "      <td>No Info</td>\n",
       "      <td>3897.0</td>\n",
       "      <td>24</td>\n",
       "      <td>3</td>\n",
       "      <td>22</td>\n",
       "      <td>20</td>\n",
       "      <td>2</td>\n",
       "      <td>50</td>\n",
       "      <td>2.5</td>\n",
       "    </tr>\n",
       "  </tbody>\n",
       "</table>\n",
       "</div>"
      ],
      "text/plain": [
       "  Airline Date_of_Journey    Source Destination      Route Dep_Time  \\\n",
       "0  IndiGo      24/03/2019  Banglore   New Delhi  BLR → DEL    22:20   \n",
       "\n",
       "   Arrival_Time Duration  Total_Stops Additional_Info   Price  day_of_Journey  \\\n",
       "0             0   2h 50m          0.0         No Info  3897.0              24   \n",
       "\n",
       "   month_of_Journey  Dep_Hour  Dep_minute dur_hour dur_min  Total_Hrs  \n",
       "0                 3        22          20        2      50        2.5  "
      ]
     },
     "execution_count": 63,
     "metadata": {},
     "output_type": "execute_result"
    }
   ],
   "source": [
    "df.head(1)"
   ]
  },
  {
   "cell_type": "markdown",
   "id": "20993b86",
   "metadata": {},
   "source": [
    "# Target Featres Price"
   ]
  },
  {
   "cell_type": "code",
   "execution_count": 64,
   "id": "86bdf8c4",
   "metadata": {},
   "outputs": [],
   "source": [
    "from scipy import stats as st\n",
    "import pylab"
   ]
  },
  {
   "cell_type": "code",
   "execution_count": 65,
   "id": "87ac93cc",
   "metadata": {},
   "outputs": [
    {
     "data": {
      "text/plain": [
       "<Axes: xlabel='Price', ylabel='Density'>"
      ]
     },
     "execution_count": 65,
     "metadata": {},
     "output_type": "execute_result"
    },
    {
     "data": {
      "image/png": "[encoded data removed]",
      "text/plain": [
       "<Figure size 432x288 with 1 Axes>"
      ]
     },
     "metadata": {
      "needs_background": "light"
     },
     "output_type": "display_data"
    }
   ],
   "source": [
    "sns.distplot(df[\"Price\"] , color=\"green\" , kde=True)"
   ]
  },
  {
   "cell_type": "code",
   "execution_count": 66,
   "id": "eba71b81",
   "metadata": {},
   "outputs": [
    {
     "data": {
      "image/png": "[encoded data removed]",
      "text/plain": [
       "<Figure size 432x288 with 1 Axes>"
      ]
     },
     "metadata": {
      "needs_background": "light"
     },
     "output_type": "display_data"
    }
   ],
   "source": [
    "st.probplot(df[\"Price\"] , dist='norm' , plot=pylab)\n",
    "plt.show()"
   ]
  },
  {
   "cell_type": "code",
   "execution_count": 67,
   "id": "8c4758e0",
   "metadata": {},
   "outputs": [
    {
     "data": {
      "image/png": "[encoded data removed]",
      "text/plain": [
       "<Figure size 864x576 with 2 Axes>"
      ]
     },
     "metadata": {
      "needs_background": "light"
     },
     "output_type": "display_data"
    }
   ],
   "source": [
    "plt.figure(figsize=(12,8))\n",
    "sns.heatmap(df.corr() , annot=True)\n",
    "plt.show()"
   ]
  },
  {
   "cell_type": "code",
   "execution_count": 68,
   "id": "730731f2",
   "metadata": {},
   "outputs": [
    {
     "data": {
      "text/html": [
       "<div>\n",
       "<style scoped>\n",
       "    .dataframe tbody tr th:only-of-type {\n",
       "        vertical-align: middle;\n",
       "    }\n",
       "\n",
       "    .dataframe tbody tr th {\n",
       "        vertical-align: top;\n",
       "    }\n",
       "\n",
       "    .dataframe thead th {\n",
       "        text-align: right;\n",
       "    }\n",
       "</style>\n",
       "<table border=\"1\" class=\"dataframe\">\n",
       "  <thead>\n",
       "    <tr style=\"text-align: right;\">\n",
       "      <th></th>\n",
       "      <th>Airline</th>\n",
       "      <th>Date_of_Journey</th>\n",
       "      <th>Source</th>\n",
       "      <th>Destination</th>\n",
       "      <th>Route</th>\n",
       "      <th>Dep_Time</th>\n",
       "      <th>Arrival_Time</th>\n",
       "      <th>Duration</th>\n",
       "      <th>Total_Stops</th>\n",
       "      <th>Additional_Info</th>\n",
       "      <th>Price</th>\n",
       "      <th>day_of_Journey</th>\n",
       "      <th>month_of_Journey</th>\n",
       "      <th>Dep_Hour</th>\n",
       "      <th>Dep_minute</th>\n",
       "      <th>dur_hour</th>\n",
       "      <th>dur_min</th>\n",
       "      <th>Total_Hrs</th>\n",
       "    </tr>\n",
       "  </thead>\n",
       "  <tbody>\n",
       "    <tr>\n",
       "      <th>9039</th>\n",
       "      <td>Air India</td>\n",
       "      <td>6/05/2019</td>\n",
       "      <td>Delhi</td>\n",
       "      <td>Cochin</td>\n",
       "      <td>NaN</td>\n",
       "      <td>09:45</td>\n",
       "      <td>0</td>\n",
       "      <td>23h 40m</td>\n",
       "      <td>NaN</td>\n",
       "      <td>No Info</td>\n",
       "      <td>7480.0</td>\n",
       "      <td>5</td>\n",
       "      <td>6</td>\n",
       "      <td>9</td>\n",
       "      <td>45</td>\n",
       "      <td>23</td>\n",
       "      <td>40</td>\n",
       "      <td>23.40</td>\n",
       "    </tr>\n",
       "    <tr>\n",
       "      <th>0</th>\n",
       "      <td>Jet Airways</td>\n",
       "      <td>6/06/2019</td>\n",
       "      <td>Delhi</td>\n",
       "      <td>Cochin</td>\n",
       "      <td>DEL → BOM → COK</td>\n",
       "      <td>17:30</td>\n",
       "      <td>0</td>\n",
       "      <td>10h 55m</td>\n",
       "      <td>1.0</td>\n",
       "      <td>No Info</td>\n",
       "      <td>NaN</td>\n",
       "      <td>6</td>\n",
       "      <td>6</td>\n",
       "      <td>17</td>\n",
       "      <td>30</td>\n",
       "      <td>10</td>\n",
       "      <td>55</td>\n",
       "      <td>10.55</td>\n",
       "    </tr>\n",
       "    <tr>\n",
       "      <th>1</th>\n",
       "      <td>IndiGo</td>\n",
       "      <td>12/05/2019</td>\n",
       "      <td>Kolkata</td>\n",
       "      <td>Banglore</td>\n",
       "      <td>CCU → MAA → BLR</td>\n",
       "      <td>06:20</td>\n",
       "      <td>0</td>\n",
       "      <td>4h 0m</td>\n",
       "      <td>1.0</td>\n",
       "      <td>No Info</td>\n",
       "      <td>NaN</td>\n",
       "      <td>5</td>\n",
       "      <td>12</td>\n",
       "      <td>6</td>\n",
       "      <td>20</td>\n",
       "      <td>4</td>\n",
       "      <td>0</td>\n",
       "      <td>4.00</td>\n",
       "    </tr>\n",
       "    <tr>\n",
       "      <th>2</th>\n",
       "      <td>Jet Airways</td>\n",
       "      <td>21/05/2019</td>\n",
       "      <td>Delhi</td>\n",
       "      <td>Cochin</td>\n",
       "      <td>DEL → BOM → COK</td>\n",
       "      <td>19:15</td>\n",
       "      <td>0</td>\n",
       "      <td>23h 45m</td>\n",
       "      <td>1.0</td>\n",
       "      <td>In-flight meal not included</td>\n",
       "      <td>NaN</td>\n",
       "      <td>21</td>\n",
       "      <td>5</td>\n",
       "      <td>19</td>\n",
       "      <td>15</td>\n",
       "      <td>23</td>\n",
       "      <td>45</td>\n",
       "      <td>23.45</td>\n",
       "    </tr>\n",
       "    <tr>\n",
       "      <th>3</th>\n",
       "      <td>Multiple carriers</td>\n",
       "      <td>21/05/2019</td>\n",
       "      <td>Delhi</td>\n",
       "      <td>Cochin</td>\n",
       "      <td>DEL → BOM → COK</td>\n",
       "      <td>08:00</td>\n",
       "      <td>0</td>\n",
       "      <td>13h 0m</td>\n",
       "      <td>1.0</td>\n",
       "      <td>No Info</td>\n",
       "      <td>NaN</td>\n",
       "      <td>21</td>\n",
       "      <td>5</td>\n",
       "      <td>8</td>\n",
       "      <td>0</td>\n",
       "      <td>13</td>\n",
       "      <td>0</td>\n",
       "      <td>13.00</td>\n",
       "    </tr>\n",
       "    <tr>\n",
       "      <th>...</th>\n",
       "      <td>...</td>\n",
       "      <td>...</td>\n",
       "      <td>...</td>\n",
       "      <td>...</td>\n",
       "      <td>...</td>\n",
       "      <td>...</td>\n",
       "      <td>...</td>\n",
       "      <td>...</td>\n",
       "      <td>...</td>\n",
       "      <td>...</td>\n",
       "      <td>...</td>\n",
       "      <td>...</td>\n",
       "      <td>...</td>\n",
       "      <td>...</td>\n",
       "      <td>...</td>\n",
       "      <td>...</td>\n",
       "      <td>...</td>\n",
       "      <td>...</td>\n",
       "    </tr>\n",
       "    <tr>\n",
       "      <th>2666</th>\n",
       "      <td>Air India</td>\n",
       "      <td>6/06/2019</td>\n",
       "      <td>Kolkata</td>\n",
       "      <td>Banglore</td>\n",
       "      <td>CCU → DEL → BLR</td>\n",
       "      <td>20:30</td>\n",
       "      <td>0</td>\n",
       "      <td>23h 55m</td>\n",
       "      <td>1.0</td>\n",
       "      <td>No Info</td>\n",
       "      <td>NaN</td>\n",
       "      <td>6</td>\n",
       "      <td>6</td>\n",
       "      <td>20</td>\n",
       "      <td>30</td>\n",
       "      <td>23</td>\n",
       "      <td>55</td>\n",
       "      <td>23.55</td>\n",
       "    </tr>\n",
       "    <tr>\n",
       "      <th>2667</th>\n",
       "      <td>IndiGo</td>\n",
       "      <td>27/03/2019</td>\n",
       "      <td>Kolkata</td>\n",
       "      <td>Banglore</td>\n",
       "      <td>CCU → BLR</td>\n",
       "      <td>14:20</td>\n",
       "      <td>0</td>\n",
       "      <td>2h 35m</td>\n",
       "      <td>0.0</td>\n",
       "      <td>No Info</td>\n",
       "      <td>NaN</td>\n",
       "      <td>27</td>\n",
       "      <td>3</td>\n",
       "      <td>14</td>\n",
       "      <td>20</td>\n",
       "      <td>2</td>\n",
       "      <td>35</td>\n",
       "      <td>2.35</td>\n",
       "    </tr>\n",
       "    <tr>\n",
       "      <th>2668</th>\n",
       "      <td>Jet Airways</td>\n",
       "      <td>6/03/2019</td>\n",
       "      <td>Delhi</td>\n",
       "      <td>Cochin</td>\n",
       "      <td>DEL → BOM → COK</td>\n",
       "      <td>21:50</td>\n",
       "      <td>0</td>\n",
       "      <td>6h 35m</td>\n",
       "      <td>1.0</td>\n",
       "      <td>No Info</td>\n",
       "      <td>NaN</td>\n",
       "      <td>3</td>\n",
       "      <td>6</td>\n",
       "      <td>21</td>\n",
       "      <td>50</td>\n",
       "      <td>6</td>\n",
       "      <td>35</td>\n",
       "      <td>6.35</td>\n",
       "    </tr>\n",
       "    <tr>\n",
       "      <th>2669</th>\n",
       "      <td>Air India</td>\n",
       "      <td>6/03/2019</td>\n",
       "      <td>Delhi</td>\n",
       "      <td>Cochin</td>\n",
       "      <td>DEL → BOM → COK</td>\n",
       "      <td>04:00</td>\n",
       "      <td>0</td>\n",
       "      <td>15h 15m</td>\n",
       "      <td>1.0</td>\n",
       "      <td>No Info</td>\n",
       "      <td>NaN</td>\n",
       "      <td>3</td>\n",
       "      <td>6</td>\n",
       "      <td>4</td>\n",
       "      <td>0</td>\n",
       "      <td>15</td>\n",
       "      <td>15</td>\n",
       "      <td>15.15</td>\n",
       "    </tr>\n",
       "    <tr>\n",
       "      <th>2670</th>\n",
       "      <td>Multiple carriers</td>\n",
       "      <td>15/06/2019</td>\n",
       "      <td>Delhi</td>\n",
       "      <td>Cochin</td>\n",
       "      <td>DEL → BOM → COK</td>\n",
       "      <td>04:55</td>\n",
       "      <td>0</td>\n",
       "      <td>14h 20m</td>\n",
       "      <td>1.0</td>\n",
       "      <td>No Info</td>\n",
       "      <td>NaN</td>\n",
       "      <td>15</td>\n",
       "      <td>6</td>\n",
       "      <td>4</td>\n",
       "      <td>55</td>\n",
       "      <td>14</td>\n",
       "      <td>20</td>\n",
       "      <td>14.20</td>\n",
       "    </tr>\n",
       "  </tbody>\n",
       "</table>\n",
       "<p>2672 rows × 18 columns</p>\n",
       "</div>"
      ],
      "text/plain": [
       "                Airline Date_of_Journey   Source Destination            Route  \\\n",
       "9039          Air India       6/05/2019    Delhi      Cochin              NaN   \n",
       "0           Jet Airways       6/06/2019    Delhi      Cochin  DEL → BOM → COK   \n",
       "1                IndiGo      12/05/2019  Kolkata    Banglore  CCU → MAA → BLR   \n",
       "2           Jet Airways      21/05/2019    Delhi      Cochin  DEL → BOM → COK   \n",
       "3     Multiple carriers      21/05/2019    Delhi      Cochin  DEL → BOM → COK   \n",
       "...                 ...             ...      ...         ...              ...   \n",
       "2666          Air India       6/06/2019  Kolkata    Banglore  CCU → DEL → BLR   \n",
       "2667             IndiGo      27/03/2019  Kolkata    Banglore        CCU → BLR   \n",
       "2668        Jet Airways       6/03/2019    Delhi      Cochin  DEL → BOM → COK   \n",
       "2669          Air India       6/03/2019    Delhi      Cochin  DEL → BOM → COK   \n",
       "2670  Multiple carriers      15/06/2019    Delhi      Cochin  DEL → BOM → COK   \n",
       "\n",
       "     Dep_Time  Arrival_Time Duration  Total_Stops  \\\n",
       "9039    09:45             0  23h 40m          NaN   \n",
       "0       17:30             0  10h 55m          1.0   \n",
       "1       06:20             0    4h 0m          1.0   \n",
       "2       19:15             0  23h 45m          1.0   \n",
       "3       08:00             0   13h 0m          1.0   \n",
       "...       ...           ...      ...          ...   \n",
       "2666    20:30             0  23h 55m          1.0   \n",
       "2667    14:20             0   2h 35m          0.0   \n",
       "2668    21:50             0   6h 35m          1.0   \n",
       "2669    04:00             0  15h 15m          1.0   \n",
       "2670    04:55             0  14h 20m          1.0   \n",
       "\n",
       "                  Additional_Info   Price  day_of_Journey  month_of_Journey  \\\n",
       "9039                      No Info  7480.0               5                 6   \n",
       "0                         No Info     NaN               6                 6   \n",
       "1                         No Info     NaN               5                12   \n",
       "2     In-flight meal not included     NaN              21                 5   \n",
       "3                         No Info     NaN              21                 5   \n",
       "...                           ...     ...             ...               ...   \n",
       "2666                      No Info     NaN               6                 6   \n",
       "2667                      No Info     NaN              27                 3   \n",
       "2668                      No Info     NaN               3                 6   \n",
       "2669                      No Info     NaN               3                 6   \n",
       "2670                      No Info     NaN              15                 6   \n",
       "\n",
       "      Dep_Hour  Dep_minute dur_hour dur_min  Total_Hrs  \n",
       "9039         9          45       23      40      23.40  \n",
       "0           17          30       10      55      10.55  \n",
       "1            6          20        4       0       4.00  \n",
       "2           19          15       23      45      23.45  \n",
       "3            8           0       13       0      13.00  \n",
       "...        ...         ...      ...     ...        ...  \n",
       "2666        20          30       23      55      23.55  \n",
       "2667        14          20        2      35       2.35  \n",
       "2668        21          50        6      35       6.35  \n",
       "2669         4           0       15      15      15.15  \n",
       "2670         4          55       14      20      14.20  \n",
       "\n",
       "[2672 rows x 18 columns]"
      ]
     },
     "execution_count": 68,
     "metadata": {},
     "output_type": "execute_result"
    }
   ],
   "source": [
    "df[df.isna().any(axis=1)]"
   ]
  },
  {
   "cell_type": "code",
   "execution_count": 69,
   "id": "1630b34d",
   "metadata": {},
   "outputs": [
    {
     "data": {
      "text/html": [
       "<div>\n",
       "<style scoped>\n",
       "    .dataframe tbody tr th:only-of-type {\n",
       "        vertical-align: middle;\n",
       "    }\n",
       "\n",
       "    .dataframe tbody tr th {\n",
       "        vertical-align: top;\n",
       "    }\n",
       "\n",
       "    .dataframe thead th {\n",
       "        text-align: right;\n",
       "    }\n",
       "</style>\n",
       "<table border=\"1\" class=\"dataframe\">\n",
       "  <thead>\n",
       "    <tr style=\"text-align: right;\">\n",
       "      <th></th>\n",
       "      <th>index</th>\n",
       "      <th>Price</th>\n",
       "    </tr>\n",
       "  </thead>\n",
       "  <tbody>\n",
       "    <tr>\n",
       "      <th>2</th>\n",
       "      <td>Price</td>\n",
       "      <td>1.000000</td>\n",
       "    </tr>\n",
       "    <tr>\n",
       "      <th>1</th>\n",
       "      <td>Total_Stops</td>\n",
       "      <td>0.603897</td>\n",
       "    </tr>\n",
       "    <tr>\n",
       "      <th>7</th>\n",
       "      <td>Total_Hrs</td>\n",
       "      <td>0.507894</td>\n",
       "    </tr>\n",
       "    <tr>\n",
       "      <th>4</th>\n",
       "      <td>month_of_Journey</td>\n",
       "      <td>0.010700</td>\n",
       "    </tr>\n",
       "    <tr>\n",
       "      <th>5</th>\n",
       "      <td>Dep_Hour</td>\n",
       "      <td>0.006819</td>\n",
       "    </tr>\n",
       "    <tr>\n",
       "      <th>6</th>\n",
       "      <td>Dep_minute</td>\n",
       "      <td>-0.024492</td>\n",
       "    </tr>\n",
       "    <tr>\n",
       "      <th>3</th>\n",
       "      <td>day_of_Journey</td>\n",
       "      <td>-0.165412</td>\n",
       "    </tr>\n",
       "    <tr>\n",
       "      <th>0</th>\n",
       "      <td>Arrival_Time</td>\n",
       "      <td>NaN</td>\n",
       "    </tr>\n",
       "  </tbody>\n",
       "</table>\n",
       "</div>"
      ],
      "text/plain": [
       "              index     Price\n",
       "2             Price  1.000000\n",
       "1       Total_Stops  0.603897\n",
       "7         Total_Hrs  0.507894\n",
       "4  month_of_Journey  0.010700\n",
       "5          Dep_Hour  0.006819\n",
       "6        Dep_minute -0.024492\n",
       "3    day_of_Journey -0.165412\n",
       "0      Arrival_Time       NaN"
      ]
     },
     "execution_count": 69,
     "metadata": {},
     "output_type": "execute_result"
    }
   ],
   "source": [
    "pd.DataFrame(df.corr()[\"Price\"]).reset_index().sort_values(\"Price\" , ascending=False)"
   ]
  },
  {
   "cell_type": "code",
   "execution_count": 70,
   "id": "f817a223",
   "metadata": {},
   "outputs": [],
   "source": [
    "# Column Need To Drop : Arrival_Time , day_of_Journey , Dep_minute , Dep_hour\n",
    "# Column Need To model Building : Price , Total_Stops , Total_Hrs , "
   ]
  },
  {
   "cell_type": "code",
   "execution_count": 71,
   "id": "cb78f988",
   "metadata": {},
   "outputs": [
    {
     "data": {
      "text/html": [
       "<div>\n",
       "<style scoped>\n",
       "    .dataframe tbody tr th:only-of-type {\n",
       "        vertical-align: middle;\n",
       "    }\n",
       "\n",
       "    .dataframe tbody tr th {\n",
       "        vertical-align: top;\n",
       "    }\n",
       "\n",
       "    .dataframe thead th {\n",
       "        text-align: right;\n",
       "    }\n",
       "</style>\n",
       "<table border=\"1\" class=\"dataframe\">\n",
       "  <thead>\n",
       "    <tr style=\"text-align: right;\">\n",
       "      <th></th>\n",
       "      <th>Airline</th>\n",
       "      <th>Date_of_Journey</th>\n",
       "      <th>Source</th>\n",
       "      <th>Destination</th>\n",
       "      <th>Route</th>\n",
       "      <th>Dep_Time</th>\n",
       "      <th>Arrival_Time</th>\n",
       "      <th>Duration</th>\n",
       "      <th>Total_Stops</th>\n",
       "      <th>Additional_Info</th>\n",
       "      <th>Price</th>\n",
       "      <th>day_of_Journey</th>\n",
       "      <th>month_of_Journey</th>\n",
       "      <th>Dep_Hour</th>\n",
       "      <th>Dep_minute</th>\n",
       "      <th>dur_hour</th>\n",
       "      <th>dur_min</th>\n",
       "      <th>Total_Hrs</th>\n",
       "    </tr>\n",
       "  </thead>\n",
       "  <tbody>\n",
       "    <tr>\n",
       "      <th>0</th>\n",
       "      <td>IndiGo</td>\n",
       "      <td>24/03/2019</td>\n",
       "      <td>Banglore</td>\n",
       "      <td>New Delhi</td>\n",
       "      <td>BLR → DEL</td>\n",
       "      <td>22:20</td>\n",
       "      <td>0</td>\n",
       "      <td>2h 50m</td>\n",
       "      <td>0.0</td>\n",
       "      <td>No Info</td>\n",
       "      <td>3897.0</td>\n",
       "      <td>24</td>\n",
       "      <td>3</td>\n",
       "      <td>22</td>\n",
       "      <td>20</td>\n",
       "      <td>2</td>\n",
       "      <td>50</td>\n",
       "      <td>2.5</td>\n",
       "    </tr>\n",
       "  </tbody>\n",
       "</table>\n",
       "</div>"
      ],
      "text/plain": [
       "  Airline Date_of_Journey    Source Destination      Route Dep_Time  \\\n",
       "0  IndiGo      24/03/2019  Banglore   New Delhi  BLR → DEL    22:20   \n",
       "\n",
       "   Arrival_Time Duration  Total_Stops Additional_Info   Price  day_of_Journey  \\\n",
       "0             0   2h 50m          0.0         No Info  3897.0              24   \n",
       "\n",
       "   month_of_Journey  Dep_Hour  Dep_minute dur_hour dur_min  Total_Hrs  \n",
       "0                 3        22          20        2      50        2.5  "
      ]
     },
     "execution_count": 71,
     "metadata": {},
     "output_type": "execute_result"
    }
   ],
   "source": [
    "df.head(1)"
   ]
  },
  {
   "cell_type": "code",
   "execution_count": 72,
   "id": "26ba5793",
   "metadata": {},
   "outputs": [],
   "source": [
    "df=df.drop([\"Arrival_Time\" , \"day_of_Journey\" , \"Dep_Time\" , \"Dep_minute\" , \"dur_hour\" , \"dur_min\"] , axis=1)"
   ]
  },
  {
   "cell_type": "code",
   "execution_count": 73,
   "id": "19a45d9f",
   "metadata": {},
   "outputs": [],
   "source": [
    "df=df.drop([\"Date_of_Journey\" , \"Route\" , \"Duration\"] , axis=1)"
   ]
  },
  {
   "cell_type": "code",
   "execution_count": 74,
   "id": "2edb97c9",
   "metadata": {},
   "outputs": [],
   "source": [
    "temp_test=df[df.isna().any(axis=1)]"
   ]
  },
  {
   "cell_type": "code",
   "execution_count": 75,
   "id": "a732a89c",
   "metadata": {},
   "outputs": [],
   "source": [
    "temp_test=temp_test.drop(\"Price\" , axis=1)"
   ]
  },
  {
   "cell_type": "code",
   "execution_count": 76,
   "id": "737aa4e5",
   "metadata": {},
   "outputs": [],
   "source": [
    "temp_test=temp_test.dropna()"
   ]
  },
  {
   "cell_type": "code",
   "execution_count": 77,
   "id": "e3e10463",
   "metadata": {},
   "outputs": [],
   "source": [
    "temp_train=df.dropna()"
   ]
  },
  {
   "cell_type": "code",
   "execution_count": 78,
   "id": "4abf8c8b",
   "metadata": {},
   "outputs": [
    {
     "data": {
      "text/plain": [
       "((10682, 9), (2671, 8), (13354, 9))"
      ]
     },
     "execution_count": 78,
     "metadata": {},
     "output_type": "execute_result"
    }
   ],
   "source": [
    "temp_train.shape , temp_test.shape , df.shape"
   ]
  },
  {
   "cell_type": "markdown",
   "id": "2e6b92dd",
   "metadata": {},
   "source": [
    "# Now Model Building Without Scaling and OutLiers Removing"
   ]
  },
  {
   "cell_type": "code",
   "execution_count": 79,
   "id": "4a2dbfbf",
   "metadata": {},
   "outputs": [
    {
     "data": {
      "text/html": [
       "<div>\n",
       "<style scoped>\n",
       "    .dataframe tbody tr th:only-of-type {\n",
       "        vertical-align: middle;\n",
       "    }\n",
       "\n",
       "    .dataframe tbody tr th {\n",
       "        vertical-align: top;\n",
       "    }\n",
       "\n",
       "    .dataframe thead th {\n",
       "        text-align: right;\n",
       "    }\n",
       "</style>\n",
       "<table border=\"1\" class=\"dataframe\">\n",
       "  <thead>\n",
       "    <tr style=\"text-align: right;\">\n",
       "      <th></th>\n",
       "      <th>Airline</th>\n",
       "      <th>Source</th>\n",
       "      <th>Destination</th>\n",
       "      <th>Total_Stops</th>\n",
       "      <th>Additional_Info</th>\n",
       "      <th>Price</th>\n",
       "      <th>month_of_Journey</th>\n",
       "      <th>Dep_Hour</th>\n",
       "      <th>Total_Hrs</th>\n",
       "    </tr>\n",
       "  </thead>\n",
       "  <tbody>\n",
       "    <tr>\n",
       "      <th>0</th>\n",
       "      <td>IndiGo</td>\n",
       "      <td>Banglore</td>\n",
       "      <td>New Delhi</td>\n",
       "      <td>0.0</td>\n",
       "      <td>No Info</td>\n",
       "      <td>3897.0</td>\n",
       "      <td>3</td>\n",
       "      <td>22</td>\n",
       "      <td>2.5</td>\n",
       "    </tr>\n",
       "  </tbody>\n",
       "</table>\n",
       "</div>"
      ],
      "text/plain": [
       "  Airline    Source Destination  Total_Stops Additional_Info   Price  \\\n",
       "0  IndiGo  Banglore   New Delhi          0.0         No Info  3897.0   \n",
       "\n",
       "   month_of_Journey  Dep_Hour  Total_Hrs  \n",
       "0                 3        22        2.5  "
      ]
     },
     "execution_count": 79,
     "metadata": {},
     "output_type": "execute_result"
    }
   ],
   "source": [
    "temp_train.head(1)"
   ]
  },
  {
   "cell_type": "code",
   "execution_count": 80,
   "id": "f4f0d137",
   "metadata": {},
   "outputs": [],
   "source": [
    "x=temp_train.drop(\"Price\" , axis=1)\n",
    "y=temp_train[\"Price\"]"
   ]
  },
  {
   "cell_type": "code",
   "execution_count": 81,
   "id": "91b8f250",
   "metadata": {},
   "outputs": [],
   "source": [
    "x_train ,x_test , y_train , y_test =train_test_split(x,y , test_size=0.2)"
   ]
  },
  {
   "cell_type": "code",
   "execution_count": 82,
   "id": "43ea0bca",
   "metadata": {},
   "outputs": [
    {
     "data": {
      "text/plain": [
       "((8545, 8), (2137, 8), (8545,), (2137,))"
      ]
     },
     "execution_count": 82,
     "metadata": {},
     "output_type": "execute_result"
    }
   ],
   "source": [
    "x_train.shape , x_test.shape , y_train.shape , y_test.shape"
   ]
  },
  {
   "cell_type": "code",
   "execution_count": 83,
   "id": "683d61f5",
   "metadata": {},
   "outputs": [],
   "source": [
    "from sklearn.linear_model import LinearRegression , Lasso , Ridge\n",
    "from sklearn.svm import SVR\n",
    "from sklearn.tree import DecisionTreeRegressor\n",
    "from sklearn.ensemble import RandomForestRegressor , BaggingRegressor , AdaBoostRegressor , VotingRegressor ,ExtraTreesRegressor , GradientBoostingRegressor\n",
    "from sklearn.neighbors import KNeighborsRegressor"
   ]
  },
  {
   "cell_type": "code",
   "execution_count": 84,
   "id": "1d380d65",
   "metadata": {},
   "outputs": [],
   "source": [
    "lr=LinearRegression()\n",
    "ls=Lasso()\n",
    "rid=Ridge()\n",
    "support=SVR()\n",
    "dtr=DecisionTreeRegressor()\n",
    "rfr=RandomForestRegressor()\n",
    "br=BaggingRegressor()\n",
    "abr=AdaBoostRegressor()\n",
    "#vr=VotingRegressor()\n",
    "etr=ExtraTreesRegressor()\n",
    "gbr=GradientBoostingRegressor()\n",
    "knr=KNeighborsRegressor()"
   ]
  },
  {
   "cell_type": "code",
   "execution_count": 85,
   "id": "5a561861",
   "metadata": {},
   "outputs": [
    {
     "data": {
      "text/html": [
       "<div>\n",
       "<style scoped>\n",
       "    .dataframe tbody tr th:only-of-type {\n",
       "        vertical-align: middle;\n",
       "    }\n",
       "\n",
       "    .dataframe tbody tr th {\n",
       "        vertical-align: top;\n",
       "    }\n",
       "\n",
       "    .dataframe thead th {\n",
       "        text-align: right;\n",
       "    }\n",
       "</style>\n",
       "<table border=\"1\" class=\"dataframe\">\n",
       "  <thead>\n",
       "    <tr style=\"text-align: right;\">\n",
       "      <th></th>\n",
       "      <th>Airline</th>\n",
       "      <th>Source</th>\n",
       "      <th>Destination</th>\n",
       "      <th>Total_Stops</th>\n",
       "      <th>Additional_Info</th>\n",
       "      <th>month_of_Journey</th>\n",
       "      <th>Dep_Hour</th>\n",
       "      <th>Total_Hrs</th>\n",
       "    </tr>\n",
       "  </thead>\n",
       "  <tbody>\n",
       "    <tr>\n",
       "      <th>0</th>\n",
       "      <td>IndiGo</td>\n",
       "      <td>Banglore</td>\n",
       "      <td>New Delhi</td>\n",
       "      <td>0.0</td>\n",
       "      <td>No Info</td>\n",
       "      <td>3</td>\n",
       "      <td>22</td>\n",
       "      <td>2.5</td>\n",
       "    </tr>\n",
       "  </tbody>\n",
       "</table>\n",
       "</div>"
      ],
      "text/plain": [
       "  Airline    Source Destination  Total_Stops Additional_Info  \\\n",
       "0  IndiGo  Banglore   New Delhi          0.0         No Info   \n",
       "\n",
       "   month_of_Journey  Dep_Hour  Total_Hrs  \n",
       "0                 3        22        2.5  "
      ]
     },
     "execution_count": 85,
     "metadata": {},
     "output_type": "execute_result"
    }
   ],
   "source": [
    "x.head(1)"
   ]
  },
  {
   "cell_type": "code",
   "execution_count": 86,
   "id": "b86b574e",
   "metadata": {},
   "outputs": [],
   "source": [
    "step1=ColumnTransformer(transformers=[\n",
    "    (\"col_tnf\" , OneHotEncoder(sparse=False , drop=\"first\" , handle_unknown=\"ignore\") ,[0,1,2,4]),\n",
    "    \n",
    "       \n",
    "    \n",
    "] , remainder=\"passthrough\" )"
   ]
  },
  {
   "cell_type": "code",
   "execution_count": 87,
   "id": "11e0842d",
   "metadata": {},
   "outputs": [],
   "source": [
    "step2=lr"
   ]
  },
  {
   "cell_type": "code",
   "execution_count": 88,
   "id": "5de0fdb4",
   "metadata": {},
   "outputs": [],
   "source": [
    "pipe=Pipeline([\n",
    "    (\"step1\" , step1),\n",
    "    (\"step2\" , step2)    \n",
    "])"
   ]
  },
  {
   "cell_type": "code",
   "execution_count": 89,
   "id": "9c7710e2",
   "metadata": {},
   "outputs": [],
   "source": [
    "training_score_r2=[]\n",
    "test_score_r2=[]\n",
    "\n",
    "mse=[]\n",
    "mae=[]"
   ]
  },
  {
   "cell_type": "code",
   "execution_count": 90,
   "id": "62788d76",
   "metadata": {},
   "outputs": [],
   "source": [
    "def predictor(model):\n",
    "    pipe=Pipeline([\n",
    "    (\"step1\" , step1),\n",
    "    (\"step2\" , model)    \n",
    "    ])\n",
    "    pipe.fit(x_train , y_train)\n",
    "    y_pred_train=pipe.predict(x_train)\n",
    "    y_pred=pipe.predict(x_test)\n",
    "    a=r2_score(y_train , y_pred_train)\n",
    "    b=r2_score(y_test , y_pred)\n",
    "    training_score_r2.append(a)\n",
    "    test_score_r2.append(b)\n",
    "    \n",
    "    mse.append(mean_squared_error(y_test , y_pred))\n",
    "    mae.append(mean_absolute_error(y_test , y_pred))\n",
    "    \n",
    "    print(f\"r2 Score of {model} model on Training data is \" , a)\n",
    "    print(\"-\"*100)\n",
    "    print(f\"r2 Score of {model} model on test data is \" , b)\n",
    "    print(\"-\"*100)\n",
    "    print(\"Mean Square Error of Model is\" , mean_squared_error(y_test , y_pred))\n",
    "    print(\"-\"*100)\n",
    "    print(\"Mean Absolute Error of Model is \" , mean_absolute_error(y_test , y_pred))"
   ]
  },
  {
   "cell_type": "markdown",
   "id": "8186aefb",
   "metadata": {},
   "source": [
    "# LinearRegression Model"
   ]
  },
  {
   "cell_type": "code",
   "execution_count": 91,
   "id": "e608f627",
   "metadata": {},
   "outputs": [
    {
     "name": "stdout",
     "output_type": "stream",
     "text": [
      "r2 Score of LinearRegression() model on Training data is  0.6659090205318464\n",
      "----------------------------------------------------------------------------------------------------\n",
      "r2 Score of LinearRegression() model on test data is  0.694980326038652\n",
      "----------------------------------------------------------------------------------------------------\n",
      "Mean Square Error of Model is 6437943.130143747\n",
      "----------------------------------------------------------------------------------------------------\n",
      "Mean Absolute Error of Model is  1752.0373479176415\n"
     ]
    }
   ],
   "source": [
    "predictor(lr)"
   ]
  },
  {
   "cell_type": "code",
   "execution_count": 92,
   "id": "5358d5e0",
   "metadata": {},
   "outputs": [],
   "source": [
    "regressor=[lr , ls , rid , support , dtr , rfr , br , abr , etr , gbr , knr]\n",
    "Algorithms=[\"Linear_Regression\" , \"Lasso(L1)\" , \"Ridge\" , \"SVR\" , \"DecisionTreeRegressor\" , \"RandomForestRegressor\" , \"BaggingRegressor\" , \"AdaboostRegressor\" , \"ExtraTreeRegressor\" , \"GradientBoostREgressor\" , \"KNN_Regressor\"]"
   ]
  },
  {
   "cell_type": "markdown",
   "id": "9f1598bb",
   "metadata": {},
   "source": [
    "# Lasso Regression"
   ]
  },
  {
   "cell_type": "code",
   "execution_count": 93,
   "id": "62f206a9",
   "metadata": {},
   "outputs": [
    {
     "name": "stdout",
     "output_type": "stream",
     "text": [
      "r2 Score of Lasso() model on Training data is  0.6649862325839062\n",
      "----------------------------------------------------------------------------------------------------\n",
      "r2 Score of Lasso() model on test data is  0.6958350915585552\n",
      "----------------------------------------------------------------------------------------------------\n",
      "Mean Square Error of Model is 6419901.8945235135\n",
      "----------------------------------------------------------------------------------------------------\n",
      "Mean Absolute Error of Model is  1750.6825748063573\n"
     ]
    }
   ],
   "source": [
    "predictor(ls)"
   ]
  },
  {
   "cell_type": "markdown",
   "id": "cd2a524e",
   "metadata": {},
   "source": [
    "# Ridge Regression"
   ]
  },
  {
   "cell_type": "code",
   "execution_count": 94,
   "id": "fba27511",
   "metadata": {},
   "outputs": [
    {
     "name": "stdout",
     "output_type": "stream",
     "text": [
      "r2 Score of Ridge() model on Training data is  0.6640642025572678\n",
      "----------------------------------------------------------------------------------------------------\n",
      "r2 Score of Ridge() model on test data is  0.6965473009654111\n",
      "----------------------------------------------------------------------------------------------------\n",
      "Mean Square Error of Model is 6404869.540713203\n",
      "----------------------------------------------------------------------------------------------------\n",
      "Mean Absolute Error of Model is  1750.9821535216345\n"
     ]
    }
   ],
   "source": [
    "predictor(rid)"
   ]
  },
  {
   "cell_type": "markdown",
   "id": "0f0a1389",
   "metadata": {},
   "source": [
    "# Support Vector Regression"
   ]
  },
  {
   "cell_type": "code",
   "execution_count": 95,
   "id": "978b53d4",
   "metadata": {},
   "outputs": [
    {
     "name": "stdout",
     "output_type": "stream",
     "text": [
      "r2 Score of SVR() model on Training data is  0.10036964549952143\n",
      "----------------------------------------------------------------------------------------------------\n",
      "r2 Score of SVR() model on test data is  0.1296641168520416\n",
      "----------------------------------------------------------------------------------------------------\n",
      "Mean Square Error of Model is 18369873.808664627\n",
      "----------------------------------------------------------------------------------------------------\n",
      "Mean Absolute Error of Model is  3184.914375806386\n"
     ]
    }
   ],
   "source": [
    "predictor(support)"
   ]
  },
  {
   "cell_type": "markdown",
   "id": "3acdf236",
   "metadata": {},
   "source": [
    "# Decision Tree Regression"
   ]
  },
  {
   "cell_type": "code",
   "execution_count": 96,
   "id": "2d700f5a",
   "metadata": {},
   "outputs": [
    {
     "name": "stdout",
     "output_type": "stream",
     "text": [
      "r2 Score of DecisionTreeRegressor() model on Training data is  0.9492734963401265\n",
      "----------------------------------------------------------------------------------------------------\n",
      "r2 Score of DecisionTreeRegressor() model on test data is  0.6987722924507764\n",
      "----------------------------------------------------------------------------------------------------\n",
      "Mean Square Error of Model is 6357907.426886897\n",
      "----------------------------------------------------------------------------------------------------\n",
      "Mean Absolute Error of Model is  1258.5823901998795\n"
     ]
    }
   ],
   "source": [
    "predictor(dtr)"
   ]
  },
  {
   "cell_type": "markdown",
   "id": "aea109aa",
   "metadata": {},
   "source": [
    "# Random Forest Regressor "
   ]
  },
  {
   "cell_type": "code",
   "execution_count": 97,
   "id": "8f7a2fba",
   "metadata": {},
   "outputs": [
    {
     "name": "stdout",
     "output_type": "stream",
     "text": [
      "r2 Score of RandomForestRegressor() model on Training data is  0.9328797281354912\n",
      "----------------------------------------------------------------------------------------------------\n",
      "r2 Score of RandomForestRegressor() model on test data is  0.8039818166393591\n",
      "----------------------------------------------------------------------------------------------------\n",
      "Mean Square Error of Model is 4137286.951233873\n",
      "----------------------------------------------------------------------------------------------------\n",
      "Mean Absolute Error of Model is  1119.880750588408\n"
     ]
    }
   ],
   "source": [
    "predictor(rfr)"
   ]
  },
  {
   "cell_type": "markdown",
   "id": "82a79035",
   "metadata": {},
   "source": [
    "# Bagging Regressor"
   ]
  },
  {
   "cell_type": "code",
   "execution_count": 98,
   "id": "b629fd15",
   "metadata": {},
   "outputs": [
    {
     "name": "stdout",
     "output_type": "stream",
     "text": [
      "r2 Score of BaggingRegressor() model on Training data is  0.9235753136278975\n",
      "----------------------------------------------------------------------------------------------------\n",
      "r2 Score of BaggingRegressor() model on test data is  0.7923869086229898\n",
      "----------------------------------------------------------------------------------------------------\n",
      "Mean Square Error of Model is 4382016.602404156\n",
      "----------------------------------------------------------------------------------------------------\n",
      "Mean Absolute Error of Model is  1145.6966972018909\n"
     ]
    }
   ],
   "source": [
    "predictor(br)"
   ]
  },
  {
   "cell_type": "markdown",
   "id": "9f4f320d",
   "metadata": {},
   "source": [
    "# Ada Boost Regressor"
   ]
  },
  {
   "cell_type": "code",
   "execution_count": 99,
   "id": "2b824e92",
   "metadata": {},
   "outputs": [
    {
     "name": "stdout",
     "output_type": "stream",
     "text": [
      "r2 Score of AdaBoostRegressor() model on Training data is  0.33339913902860985\n",
      "----------------------------------------------------------------------------------------------------\n",
      "r2 Score of AdaBoostRegressor() model on test data is  0.29545025364875943\n",
      "----------------------------------------------------------------------------------------------------\n",
      "Mean Square Error of Model is 14870684.046240479\n",
      "----------------------------------------------------------------------------------------------------\n",
      "Mean Absolute Error of Model is  3254.4577601128694\n"
     ]
    }
   ],
   "source": [
    "predictor(abr)"
   ]
  },
  {
   "cell_type": "markdown",
   "id": "4f60959e",
   "metadata": {},
   "source": [
    "# Extra Tree Regressor"
   ]
  },
  {
   "cell_type": "code",
   "execution_count": 100,
   "id": "db4416de",
   "metadata": {},
   "outputs": [
    {
     "name": "stdout",
     "output_type": "stream",
     "text": [
      "r2 Score of ExtraTreesRegressor() model on Training data is  0.9492734844252008\n",
      "----------------------------------------------------------------------------------------------------\n",
      "r2 Score of ExtraTreesRegressor() model on test data is  0.7780137267587814\n",
      "----------------------------------------------------------------------------------------------------\n",
      "Mean Square Error of Model is 4685386.3039031895\n",
      "----------------------------------------------------------------------------------------------------\n",
      "Mean Absolute Error of Model is  1167.94771183457\n"
     ]
    }
   ],
   "source": [
    "predictor(etr)"
   ]
  },
  {
   "cell_type": "markdown",
   "id": "76201c71",
   "metadata": {},
   "source": [
    "# Gradient Boost regressor"
   ]
  },
  {
   "cell_type": "code",
   "execution_count": 101,
   "id": "79036b86",
   "metadata": {},
   "outputs": [
    {
     "name": "stdout",
     "output_type": "stream",
     "text": [
      "r2 Score of GradientBoostingRegressor() model on Training data is  0.7712223237953071\n",
      "----------------------------------------------------------------------------------------------------\n",
      "r2 Score of GradientBoostingRegressor() model on test data is  0.7837430351746331\n",
      "----------------------------------------------------------------------------------------------------\n",
      "Mean Square Error of Model is 4564459.803401517\n",
      "----------------------------------------------------------------------------------------------------\n",
      "Mean Absolute Error of Model is  1437.0102132346262\n"
     ]
    }
   ],
   "source": [
    "predictor(gbr)"
   ]
  },
  {
   "cell_type": "markdown",
   "id": "78070850",
   "metadata": {},
   "source": [
    "# K Nearest Neighbors regressor"
   ]
  },
  {
   "cell_type": "code",
   "execution_count": 102,
   "id": "367bb8e8",
   "metadata": {},
   "outputs": [
    {
     "name": "stdout",
     "output_type": "stream",
     "text": [
      "r2 Score of KNeighborsRegressor() model on Training data is  0.7628342061534136\n",
      "----------------------------------------------------------------------------------------------------\n",
      "r2 Score of KNeighborsRegressor() model on test data is  0.6693256530126404\n",
      "----------------------------------------------------------------------------------------------------\n",
      "Mean Square Error of Model is 6979427.303341132\n",
      "----------------------------------------------------------------------------------------------------\n",
      "Mean Absolute Error of Model is  1616.1009826860084\n"
     ]
    }
   ],
   "source": [
    "predictor(knr)"
   ]
  },
  {
   "cell_type": "code",
   "execution_count": 103,
   "id": "3fe2bf9f",
   "metadata": {},
   "outputs": [
    {
     "data": {
      "text/plain": [
       "(11, 11, 11, 11, 11)"
      ]
     },
     "execution_count": 103,
     "metadata": {},
     "output_type": "execute_result"
    }
   ],
   "source": [
    "len(Algorithms) , len(mae) , len(mse) , len(training_score_r2) , len(test_score_r2)"
   ]
  },
  {
   "cell_type": "code",
   "execution_count": 104,
   "id": "a11b7611",
   "metadata": {},
   "outputs": [],
   "source": [
    "report2=pd.DataFrame({\"Algorithms\":Algorithms , \"Mean_absolute_error\":mae , \"Mean_squared_error\":mse, \"Training_data_r2\":training_score_r2 , \"Test_data_r2\":test_score_r2})"
   ]
  },
  {
   "cell_type": "code",
   "execution_count": 105,
   "id": "d20a5511",
   "metadata": {},
   "outputs": [
    {
     "data": {
      "text/html": [
       "<div>\n",
       "<style scoped>\n",
       "    .dataframe tbody tr th:only-of-type {\n",
       "        vertical-align: middle;\n",
       "    }\n",
       "\n",
       "    .dataframe tbody tr th {\n",
       "        vertical-align: top;\n",
       "    }\n",
       "\n",
       "    .dataframe thead th {\n",
       "        text-align: right;\n",
       "    }\n",
       "</style>\n",
       "<table border=\"1\" class=\"dataframe\">\n",
       "  <thead>\n",
       "    <tr style=\"text-align: right;\">\n",
       "      <th></th>\n",
       "      <th>Algorithms</th>\n",
       "      <th>Mean_absolute_error</th>\n",
       "      <th>Mean_squared_error</th>\n",
       "      <th>Training_data_r2</th>\n",
       "      <th>Test_data_r2</th>\n",
       "    </tr>\n",
       "  </thead>\n",
       "  <tbody>\n",
       "    <tr>\n",
       "      <th>0</th>\n",
       "      <td>Linear_Regression</td>\n",
       "      <td>1752.037348</td>\n",
       "      <td>6.437943e+06</td>\n",
       "      <td>0.665909</td>\n",
       "      <td>0.694980</td>\n",
       "    </tr>\n",
       "    <tr>\n",
       "      <th>1</th>\n",
       "      <td>Lasso(L1)</td>\n",
       "      <td>1750.682575</td>\n",
       "      <td>6.419902e+06</td>\n",
       "      <td>0.664986</td>\n",
       "      <td>0.695835</td>\n",
       "    </tr>\n",
       "    <tr>\n",
       "      <th>2</th>\n",
       "      <td>Ridge</td>\n",
       "      <td>1750.982154</td>\n",
       "      <td>6.404870e+06</td>\n",
       "      <td>0.664064</td>\n",
       "      <td>0.696547</td>\n",
       "    </tr>\n",
       "    <tr>\n",
       "      <th>3</th>\n",
       "      <td>SVR</td>\n",
       "      <td>3184.914376</td>\n",
       "      <td>1.836987e+07</td>\n",
       "      <td>0.100370</td>\n",
       "      <td>0.129664</td>\n",
       "    </tr>\n",
       "    <tr>\n",
       "      <th>4</th>\n",
       "      <td>DecisionTreeRegressor</td>\n",
       "      <td>1258.582390</td>\n",
       "      <td>6.357907e+06</td>\n",
       "      <td>0.949273</td>\n",
       "      <td>0.698772</td>\n",
       "    </tr>\n",
       "    <tr>\n",
       "      <th>5</th>\n",
       "      <td>RandomForestRegressor</td>\n",
       "      <td>1119.880751</td>\n",
       "      <td>4.137287e+06</td>\n",
       "      <td>0.932880</td>\n",
       "      <td>0.803982</td>\n",
       "    </tr>\n",
       "    <tr>\n",
       "      <th>6</th>\n",
       "      <td>BaggingRegressor</td>\n",
       "      <td>1145.696697</td>\n",
       "      <td>4.382017e+06</td>\n",
       "      <td>0.923575</td>\n",
       "      <td>0.792387</td>\n",
       "    </tr>\n",
       "    <tr>\n",
       "      <th>7</th>\n",
       "      <td>AdaboostRegressor</td>\n",
       "      <td>3254.457760</td>\n",
       "      <td>1.487068e+07</td>\n",
       "      <td>0.333399</td>\n",
       "      <td>0.295450</td>\n",
       "    </tr>\n",
       "    <tr>\n",
       "      <th>8</th>\n",
       "      <td>ExtraTreeRegressor</td>\n",
       "      <td>1167.947712</td>\n",
       "      <td>4.685386e+06</td>\n",
       "      <td>0.949273</td>\n",
       "      <td>0.778014</td>\n",
       "    </tr>\n",
       "    <tr>\n",
       "      <th>9</th>\n",
       "      <td>GradientBoostREgressor</td>\n",
       "      <td>1437.010213</td>\n",
       "      <td>4.564460e+06</td>\n",
       "      <td>0.771222</td>\n",
       "      <td>0.783743</td>\n",
       "    </tr>\n",
       "    <tr>\n",
       "      <th>10</th>\n",
       "      <td>KNN_Regressor</td>\n",
       "      <td>1616.100983</td>\n",
       "      <td>6.979427e+06</td>\n",
       "      <td>0.762834</td>\n",
       "      <td>0.669326</td>\n",
       "    </tr>\n",
       "  </tbody>\n",
       "</table>\n",
       "</div>"
      ],
      "text/plain": [
       "                Algorithms  Mean_absolute_error  Mean_squared_error  \\\n",
       "0        Linear_Regression          1752.037348        6.437943e+06   \n",
       "1                Lasso(L1)          1750.682575        6.419902e+06   \n",
       "2                    Ridge          1750.982154        6.404870e+06   \n",
       "3                      SVR          3184.914376        1.836987e+07   \n",
       "4    DecisionTreeRegressor          1258.582390        6.357907e+06   \n",
       "5    RandomForestRegressor          1119.880751        4.137287e+06   \n",
       "6         BaggingRegressor          1145.696697        4.382017e+06   \n",
       "7        AdaboostRegressor          3254.457760        1.487068e+07   \n",
       "8       ExtraTreeRegressor          1167.947712        4.685386e+06   \n",
       "9   GradientBoostREgressor          1437.010213        4.564460e+06   \n",
       "10           KNN_Regressor          1616.100983        6.979427e+06   \n",
       "\n",
       "    Training_data_r2  Test_data_r2  \n",
       "0           0.665909      0.694980  \n",
       "1           0.664986      0.695835  \n",
       "2           0.664064      0.696547  \n",
       "3           0.100370      0.129664  \n",
       "4           0.949273      0.698772  \n",
       "5           0.932880      0.803982  \n",
       "6           0.923575      0.792387  \n",
       "7           0.333399      0.295450  \n",
       "8           0.949273      0.778014  \n",
       "9           0.771222      0.783743  \n",
       "10          0.762834      0.669326  "
      ]
     },
     "execution_count": 105,
     "metadata": {},
     "output_type": "execute_result"
    }
   ],
   "source": [
    "report2"
   ]
  },
  {
   "cell_type": "markdown",
   "id": "2a24269b",
   "metadata": {},
   "source": [
    "# Now we Will do It After Scaling "
   ]
  },
  {
   "cell_type": "code",
   "execution_count": 106,
   "id": "fde85636",
   "metadata": {},
   "outputs": [],
   "source": [
    "sc_mae=[]\n",
    "sc_mse=[]\n",
    "tr_r2=[]\n",
    "test_r2=[]"
   ]
  },
  {
   "cell_type": "code",
   "execution_count": 107,
   "id": "dcc8fc34",
   "metadata": {},
   "outputs": [
    {
     "data": {
      "text/plain": [
       "(0, 0, 0, 0)"
      ]
     },
     "execution_count": 107,
     "metadata": {},
     "output_type": "execute_result"
    }
   ],
   "source": [
    "len(sc_mae) , len(sc_mse) , len(tr_r2) , len(test_r2)"
   ]
  },
  {
   "cell_type": "code",
   "execution_count": null,
   "id": "357f8083",
   "metadata": {},
   "outputs": [],
   "source": []
  },
  {
   "cell_type": "code",
   "execution_count": 108,
   "id": "c422b1aa",
   "metadata": {},
   "outputs": [],
   "source": [
    "Step1=ColumnTransformer(transformers=[\n",
    "    (\"col_tnf\" , OneHotEncoder(sparse=False , drop=\"first\" , handle_unknown=\"ignore\") ,[0,1,2,4]),\n",
    "       \n",
    "    \n",
    "] , remainder=\"passthrough\" )\n",
    "Step2=StandardScaler()"
   ]
  },
  {
   "cell_type": "code",
   "execution_count": 109,
   "id": "c992feb7",
   "metadata": {},
   "outputs": [],
   "source": [
    "def Predictor(model):\n",
    "    pipe=Pipeline([\n",
    "    (\"Step1\" , Step1),\n",
    "    (\"Step2\" , Step2),\n",
    "    (\"Step3\" , model)    \n",
    "    ])\n",
    "    pipe.fit(x_train , y_train)\n",
    "    y_pred_train=pipe.predict(x_train)\n",
    "    y_pred=pipe.predict(x_test)\n",
    "    a=r2_score(y_train , y_pred_train)\n",
    "    b=r2_score(y_test , y_pred)\n",
    "    tr_r2.append(a)\n",
    "    test_r2.append(b)\n",
    "    \n",
    "    sc_mse.append(mean_squared_error(y_test , y_pred))\n",
    "    sc_mae.append(mean_absolute_error(y_test , y_pred))\n",
    "    \n",
    "    print(f\"r2 Score of {model} model on Training data is \" , a)\n",
    "    print(\"-\"*100)\n",
    "    print(f\"r2 Score of {model} model on test data is \" , b)\n",
    "    print(\"-\"*100)\n",
    "    print(\"Mean Square Error of Model is\" , mean_squared_error(y_test , y_pred))\n",
    "    print(\"-\"*100)\n",
    "    print(\"Mean Absolute Error of Model is \" , mean_absolute_error(y_test , y_pred))"
   ]
  },
  {
   "cell_type": "code",
   "execution_count": 110,
   "id": "10e415f7",
   "metadata": {},
   "outputs": [
    {
     "data": {
      "text/plain": [
       "[LinearRegression(),\n",
       " Lasso(),\n",
       " Ridge(),\n",
       " SVR(),\n",
       " DecisionTreeRegressor(),\n",
       " RandomForestRegressor(),\n",
       " BaggingRegressor(),\n",
       " AdaBoostRegressor(),\n",
       " ExtraTreesRegressor(),\n",
       " GradientBoostingRegressor(),\n",
       " KNeighborsRegressor()]"
      ]
     },
     "execution_count": 110,
     "metadata": {},
     "output_type": "execute_result"
    }
   ],
   "source": [
    "regressor"
   ]
  },
  {
   "cell_type": "markdown",
   "id": "30630206",
   "metadata": {},
   "source": [
    "# Linear Regressor"
   ]
  },
  {
   "cell_type": "code",
   "execution_count": 111,
   "id": "d88c9a07",
   "metadata": {},
   "outputs": [
    {
     "name": "stdout",
     "output_type": "stream",
     "text": [
      "r2 Score of LinearRegression() model on Training data is  0.6659220668760378\n",
      "----------------------------------------------------------------------------------------------------\n",
      "r2 Score of LinearRegression() model on test data is  0.6951678164080096\n",
      "----------------------------------------------------------------------------------------------------\n",
      "Mean Square Error of Model is 6433985.836767562\n",
      "----------------------------------------------------------------------------------------------------\n",
      "Mean Absolute Error of Model is  1749.6994906881287\n"
     ]
    }
   ],
   "source": [
    "Predictor(lr)"
   ]
  },
  {
   "cell_type": "code",
   "execution_count": 112,
   "id": "ed5ea9c1",
   "metadata": {},
   "outputs": [],
   "source": [
    "regressor=[lr , ls , rid , support , dtr , rfr , br , abr , etr , gbr , knr]"
   ]
  },
  {
   "cell_type": "markdown",
   "id": "b96ae6de",
   "metadata": {},
   "source": [
    "# Ridge()"
   ]
  },
  {
   "cell_type": "code",
   "execution_count": 113,
   "id": "02747d0d",
   "metadata": {},
   "outputs": [
    {
     "name": "stdout",
     "output_type": "stream",
     "text": [
      "r2 Score of Lasso() model on Training data is  0.6659879897225608\n",
      "----------------------------------------------------------------------------------------------------\n",
      "r2 Score of Lasso() model on test data is  0.6956053818132095\n",
      "----------------------------------------------------------------------------------------------------\n",
      "Mean Square Error of Model is 6424750.297440507\n",
      "----------------------------------------------------------------------------------------------------\n",
      "Mean Absolute Error of Model is  1750.6036617422233\n"
     ]
    }
   ],
   "source": [
    "Predictor(ls)"
   ]
  },
  {
   "cell_type": "markdown",
   "id": "99ff8db9",
   "metadata": {},
   "source": [
    "# Lasso"
   ]
  },
  {
   "cell_type": "code",
   "execution_count": 114,
   "id": "3366bc21",
   "metadata": {},
   "outputs": [
    {
     "name": "stdout",
     "output_type": "stream",
     "text": [
      "r2 Score of Ridge() model on Training data is  0.6660122831215177\n",
      "----------------------------------------------------------------------------------------------------\n",
      "r2 Score of Ridge() model on test data is  0.695544672476263\n",
      "----------------------------------------------------------------------------------------------------\n",
      "Mean Square Error of Model is 6426031.668093274\n",
      "----------------------------------------------------------------------------------------------------\n",
      "Mean Absolute Error of Model is  1750.4212514456312\n"
     ]
    }
   ],
   "source": [
    "Predictor(rid)"
   ]
  },
  {
   "cell_type": "markdown",
   "id": "35b5a43b",
   "metadata": {},
   "source": [
    "# Support"
   ]
  },
  {
   "cell_type": "code",
   "execution_count": 115,
   "id": "f60be6b0",
   "metadata": {},
   "outputs": [
    {
     "name": "stdout",
     "output_type": "stream",
     "text": [
      "r2 Score of SVR() model on Training data is  0.07219120527459089\n",
      "----------------------------------------------------------------------------------------------------\n",
      "r2 Score of SVR() model on test data is  0.08918682048641291\n",
      "----------------------------------------------------------------------------------------------------\n",
      "Mean Square Error of Model is 19224213.886730917\n",
      "----------------------------------------------------------------------------------------------------\n",
      "Mean Absolute Error of Model is  3323.8504723710166\n"
     ]
    }
   ],
   "source": [
    "Predictor(support)"
   ]
  },
  {
   "cell_type": "markdown",
   "id": "9de234d3",
   "metadata": {},
   "source": [
    "# Decision Tree Regressor"
   ]
  },
  {
   "cell_type": "code",
   "execution_count": 116,
   "id": "4e465fec",
   "metadata": {},
   "outputs": [
    {
     "name": "stdout",
     "output_type": "stream",
     "text": [
      "r2 Score of DecisionTreeRegressor() model on Training data is  0.9492734963401265\n",
      "----------------------------------------------------------------------------------------------------\n",
      "r2 Score of DecisionTreeRegressor() model on test data is  0.7194857400329908\n",
      "----------------------------------------------------------------------------------------------------\n",
      "Mean Square Error of Model is 5920715.963688336\n",
      "----------------------------------------------------------------------------------------------------\n",
      "Mean Absolute Error of Model is  1251.234972814582\n"
     ]
    }
   ],
   "source": [
    "Predictor(dtr)"
   ]
  },
  {
   "cell_type": "markdown",
   "id": "50314cdc",
   "metadata": {},
   "source": [
    "# Random Forest Regressor"
   ]
  },
  {
   "cell_type": "code",
   "execution_count": 117,
   "id": "c7904724",
   "metadata": {},
   "outputs": [
    {
     "name": "stdout",
     "output_type": "stream",
     "text": [
      "r2 Score of RandomForestRegressor() model on Training data is  0.9322910171169327\n",
      "----------------------------------------------------------------------------------------------------\n",
      "r2 Score of RandomForestRegressor() model on test data is  0.8074500081204392\n",
      "----------------------------------------------------------------------------------------------------\n",
      "Mean Square Error of Model is 4064085.051731248\n",
      "----------------------------------------------------------------------------------------------------\n",
      "Mean Absolute Error of Model is  1113.259009360863\n"
     ]
    }
   ],
   "source": [
    "Predictor(rfr)"
   ]
  },
  {
   "cell_type": "markdown",
   "id": "3e58e2c6",
   "metadata": {},
   "source": [
    "# Bagging Regressor"
   ]
  },
  {
   "cell_type": "code",
   "execution_count": 118,
   "id": "d92abf3b",
   "metadata": {},
   "outputs": [
    {
     "name": "stdout",
     "output_type": "stream",
     "text": [
      "r2 Score of BaggingRegressor() model on Training data is  0.925962871841149\n",
      "----------------------------------------------------------------------------------------------------\n",
      "r2 Score of BaggingRegressor() model on test data is  0.7967506568183377\n",
      "----------------------------------------------------------------------------------------------------\n",
      "Mean Square Error of Model is 4289912.501868406\n",
      "----------------------------------------------------------------------------------------------------\n",
      "Mean Absolute Error of Model is  1142.7406863933004\n"
     ]
    }
   ],
   "source": [
    "Predictor(br)"
   ]
  },
  {
   "cell_type": "markdown",
   "id": "9ab16ff4",
   "metadata": {},
   "source": [
    "# AdaBoostRegressor"
   ]
  },
  {
   "cell_type": "code",
   "execution_count": 119,
   "id": "1e695e2d",
   "metadata": {},
   "outputs": [
    {
     "name": "stdout",
     "output_type": "stream",
     "text": [
      "r2 Score of AdaBoostRegressor() model on Training data is  0.33135820277152084\n",
      "----------------------------------------------------------------------------------------------------\n",
      "r2 Score of AdaBoostRegressor() model on test data is  0.27321920661894317\n",
      "----------------------------------------------------------------------------------------------------\n",
      "Mean Square Error of Model is 15339906.94797253\n",
      "----------------------------------------------------------------------------------------------------\n",
      "Mean Absolute Error of Model is  3261.144411096447\n"
     ]
    }
   ],
   "source": [
    "Predictor(abr)"
   ]
  },
  {
   "cell_type": "markdown",
   "id": "dd9fe1a0",
   "metadata": {},
   "source": [
    "# Extra Tree Regressor"
   ]
  },
  {
   "cell_type": "code",
   "execution_count": 120,
   "id": "d2980101",
   "metadata": {},
   "outputs": [
    {
     "name": "stdout",
     "output_type": "stream",
     "text": [
      "r2 Score of ExtraTreesRegressor() model on Training data is  0.9492734714351734\n",
      "----------------------------------------------------------------------------------------------------\n",
      "r2 Score of ExtraTreesRegressor() model on test data is  0.7788879334089068\n",
      "----------------------------------------------------------------------------------------------------\n",
      "Mean Square Error of Model is 4666934.7311754115\n",
      "----------------------------------------------------------------------------------------------------\n",
      "Mean Absolute Error of Model is  1163.317385681975\n"
     ]
    }
   ],
   "source": [
    "Predictor(etr)"
   ]
  },
  {
   "cell_type": "markdown",
   "id": "6b90d456",
   "metadata": {},
   "source": [
    "# Gradient Boost Regressor"
   ]
  },
  {
   "cell_type": "code",
   "execution_count": 121,
   "id": "67c36cce",
   "metadata": {},
   "outputs": [
    {
     "name": "stdout",
     "output_type": "stream",
     "text": [
      "r2 Score of GradientBoostingRegressor() model on Training data is  0.7712223237953071\n",
      "----------------------------------------------------------------------------------------------------\n",
      "r2 Score of GradientBoostingRegressor() model on test data is  0.7837518204017595\n",
      "----------------------------------------------------------------------------------------------------\n",
      "Mean Square Error of Model is 4564274.376698083\n",
      "----------------------------------------------------------------------------------------------------\n",
      "Mean Absolute Error of Model is  1436.7984691379463\n"
     ]
    }
   ],
   "source": [
    "Predictor(gbr)"
   ]
  },
  {
   "cell_type": "markdown",
   "id": "99fe0426",
   "metadata": {},
   "source": [
    "# K Nearest Regressor"
   ]
  },
  {
   "cell_type": "code",
   "execution_count": 122,
   "id": "9676a937",
   "metadata": {},
   "outputs": [
    {
     "name": "stdout",
     "output_type": "stream",
     "text": [
      "r2 Score of KNeighborsRegressor() model on Training data is  0.8276916448522564\n",
      "----------------------------------------------------------------------------------------------------\n",
      "r2 Score of KNeighborsRegressor() model on test data is  0.768828633249304\n",
      "----------------------------------------------------------------------------------------------------\n",
      "Mean Square Error of Model is 4879252.84664483\n",
      "----------------------------------------------------------------------------------------------------\n",
      "Mean Absolute Error of Model is  1308.1970987365466\n"
     ]
    }
   ],
   "source": [
    "Predictor(knr)"
   ]
  },
  {
   "cell_type": "code",
   "execution_count": null,
   "id": "8aa656a4",
   "metadata": {},
   "outputs": [],
   "source": []
  },
  {
   "cell_type": "code",
   "execution_count": 123,
   "id": "b18dca44",
   "metadata": {},
   "outputs": [],
   "source": [
    "sc_report=pd.DataFrame({\"Algorithms\":Algorithms , \"SC_Mean_absolute_error\":sc_mae , \"SC_Mean_squared_error\":sc_mse, \"SC_Training_data_r2\":tr_r2 , \"SC_Test_data_r2\":test_r2})"
   ]
  },
  {
   "cell_type": "code",
   "execution_count": 124,
   "id": "67526604",
   "metadata": {},
   "outputs": [],
   "source": [
    "Final=pd.concat([sc_report , report2] , axis=1)"
   ]
  },
  {
   "cell_type": "code",
   "execution_count": 125,
   "id": "a3054e25",
   "metadata": {},
   "outputs": [
    {
     "data": {
      "text/html": [
       "<div>\n",
       "<style scoped>\n",
       "    .dataframe tbody tr th:only-of-type {\n",
       "        vertical-align: middle;\n",
       "    }\n",
       "\n",
       "    .dataframe tbody tr th {\n",
       "        vertical-align: top;\n",
       "    }\n",
       "\n",
       "    .dataframe thead th {\n",
       "        text-align: right;\n",
       "    }\n",
       "</style>\n",
       "<table border=\"1\" class=\"dataframe\">\n",
       "  <thead>\n",
       "    <tr style=\"text-align: right;\">\n",
       "      <th></th>\n",
       "      <th>Algorithms</th>\n",
       "      <th>Algorithms</th>\n",
       "      <th>SC_Test_data_r2</th>\n",
       "      <th>Test_data_r2</th>\n",
       "    </tr>\n",
       "  </thead>\n",
       "  <tbody>\n",
       "    <tr>\n",
       "      <th>0</th>\n",
       "      <td>Linear_Regression</td>\n",
       "      <td>Linear_Regression</td>\n",
       "      <td>0.695168</td>\n",
       "      <td>0.694980</td>\n",
       "    </tr>\n",
       "    <tr>\n",
       "      <th>1</th>\n",
       "      <td>Lasso(L1)</td>\n",
       "      <td>Lasso(L1)</td>\n",
       "      <td>0.695605</td>\n",
       "      <td>0.695835</td>\n",
       "    </tr>\n",
       "    <tr>\n",
       "      <th>2</th>\n",
       "      <td>Ridge</td>\n",
       "      <td>Ridge</td>\n",
       "      <td>0.695545</td>\n",
       "      <td>0.696547</td>\n",
       "    </tr>\n",
       "    <tr>\n",
       "      <th>3</th>\n",
       "      <td>SVR</td>\n",
       "      <td>SVR</td>\n",
       "      <td>0.089187</td>\n",
       "      <td>0.129664</td>\n",
       "    </tr>\n",
       "    <tr>\n",
       "      <th>4</th>\n",
       "      <td>DecisionTreeRegressor</td>\n",
       "      <td>DecisionTreeRegressor</td>\n",
       "      <td>0.719486</td>\n",
       "      <td>0.698772</td>\n",
       "    </tr>\n",
       "    <tr>\n",
       "      <th>5</th>\n",
       "      <td>RandomForestRegressor</td>\n",
       "      <td>RandomForestRegressor</td>\n",
       "      <td>0.807450</td>\n",
       "      <td>0.803982</td>\n",
       "    </tr>\n",
       "    <tr>\n",
       "      <th>6</th>\n",
       "      <td>BaggingRegressor</td>\n",
       "      <td>BaggingRegressor</td>\n",
       "      <td>0.796751</td>\n",
       "      <td>0.792387</td>\n",
       "    </tr>\n",
       "    <tr>\n",
       "      <th>7</th>\n",
       "      <td>AdaboostRegressor</td>\n",
       "      <td>AdaboostRegressor</td>\n",
       "      <td>0.273219</td>\n",
       "      <td>0.295450</td>\n",
       "    </tr>\n",
       "    <tr>\n",
       "      <th>8</th>\n",
       "      <td>ExtraTreeRegressor</td>\n",
       "      <td>ExtraTreeRegressor</td>\n",
       "      <td>0.778888</td>\n",
       "      <td>0.778014</td>\n",
       "    </tr>\n",
       "    <tr>\n",
       "      <th>9</th>\n",
       "      <td>GradientBoostREgressor</td>\n",
       "      <td>GradientBoostREgressor</td>\n",
       "      <td>0.783752</td>\n",
       "      <td>0.783743</td>\n",
       "    </tr>\n",
       "    <tr>\n",
       "      <th>10</th>\n",
       "      <td>KNN_Regressor</td>\n",
       "      <td>KNN_Regressor</td>\n",
       "      <td>0.768829</td>\n",
       "      <td>0.669326</td>\n",
       "    </tr>\n",
       "  </tbody>\n",
       "</table>\n",
       "</div>"
      ],
      "text/plain": [
       "                Algorithms              Algorithms  SC_Test_data_r2  \\\n",
       "0        Linear_Regression       Linear_Regression         0.695168   \n",
       "1                Lasso(L1)               Lasso(L1)         0.695605   \n",
       "2                    Ridge                   Ridge         0.695545   \n",
       "3                      SVR                     SVR         0.089187   \n",
       "4    DecisionTreeRegressor   DecisionTreeRegressor         0.719486   \n",
       "5    RandomForestRegressor   RandomForestRegressor         0.807450   \n",
       "6         BaggingRegressor        BaggingRegressor         0.796751   \n",
       "7        AdaboostRegressor       AdaboostRegressor         0.273219   \n",
       "8       ExtraTreeRegressor      ExtraTreeRegressor         0.778888   \n",
       "9   GradientBoostREgressor  GradientBoostREgressor         0.783752   \n",
       "10           KNN_Regressor           KNN_Regressor         0.768829   \n",
       "\n",
       "    Test_data_r2  \n",
       "0       0.694980  \n",
       "1       0.695835  \n",
       "2       0.696547  \n",
       "3       0.129664  \n",
       "4       0.698772  \n",
       "5       0.803982  \n",
       "6       0.792387  \n",
       "7       0.295450  \n",
       "8       0.778014  \n",
       "9       0.783743  \n",
       "10      0.669326  "
      ]
     },
     "execution_count": 125,
     "metadata": {},
     "output_type": "execute_result"
    }
   ],
   "source": [
    "Final[[\"Algorithms\" , \"SC_Test_data_r2\" , \"Test_data_r2\"]]"
   ]
  },
  {
   "cell_type": "code",
   "execution_count": 126,
   "id": "bf203642",
   "metadata": {},
   "outputs": [],
   "source": [
    "import catboost"
   ]
  },
  {
   "cell_type": "code",
   "execution_count": 127,
   "id": "eb2f9751",
   "metadata": {},
   "outputs": [],
   "source": [
    "CB=catboost.CatBoostRegressor(verbose=False)"
   ]
  },
  {
   "cell_type": "code",
   "execution_count": 128,
   "id": "ce5c3cda",
   "metadata": {},
   "outputs": [
    {
     "name": "stdout",
     "output_type": "stream",
     "text": [
      "r2 Score of <catboost.core.CatBoostRegressor object at 0x00000251912B1F30> model on Training data is  0.8629942931942053\n",
      "----------------------------------------------------------------------------------------------------\n",
      "r2 Score of <catboost.core.CatBoostRegressor object at 0x00000251912B1F30> model on test data is  0.8274866444824889\n",
      "----------------------------------------------------------------------------------------------------\n",
      "Mean Square Error of Model is 3641178.805248955\n",
      "----------------------------------------------------------------------------------------------------\n",
      "Mean Absolute Error of Model is  1180.4356471988858\n"
     ]
    }
   ],
   "source": [
    "Predictor(CB)"
   ]
  },
  {
   "cell_type": "code",
   "execution_count": null,
   "id": "6bac1a13",
   "metadata": {},
   "outputs": [],
   "source": []
  },
  {
   "cell_type": "code",
   "execution_count": 130,
   "id": "cd742704",
   "metadata": {},
   "outputs": [],
   "source": [
    "CB2=catboost.CatBoostRegressor(depth=8 , iterations=50 , learning_rate=0.6 , random_state=48)"
   ]
  },
  {
   "cell_type": "code",
   "execution_count": 131,
   "id": "23d0c508",
   "metadata": {},
   "outputs": [
    {
     "name": "stdout",
     "output_type": "stream",
     "text": [
      "0:\tlearn: 3087.7978125\ttotal: 8.19ms\tremaining: 401ms\n",
      "1:\tlearn: 2659.7551376\ttotal: 15.9ms\tremaining: 382ms\n",
      "2:\tlearn: 2445.3574219\ttotal: 23.4ms\tremaining: 366ms\n",
      "3:\tlearn: 2336.2750787\ttotal: 31.8ms\tremaining: 366ms\n",
      "4:\tlearn: 2289.5463188\ttotal: 40.2ms\tremaining: 362ms\n",
      "5:\tlearn: 2260.3743991\ttotal: 47.8ms\tremaining: 351ms\n",
      "6:\tlearn: 2255.7706324\ttotal: 52.2ms\tremaining: 321ms\n",
      "7:\tlearn: 2227.3222316\ttotal: 59.6ms\tremaining: 313ms\n",
      "8:\tlearn: 2188.3871889\ttotal: 67.8ms\tremaining: 309ms\n",
      "9:\tlearn: 2176.1473145\ttotal: 81.3ms\tremaining: 325ms\n",
      "10:\tlearn: 2121.8998700\ttotal: 88.6ms\tremaining: 314ms\n",
      "11:\tlearn: 2090.7929271\ttotal: 95.8ms\tremaining: 303ms\n",
      "12:\tlearn: 2078.8749327\ttotal: 103ms\tremaining: 293ms\n",
      "13:\tlearn: 2076.4341618\ttotal: 106ms\tremaining: 274ms\n",
      "14:\tlearn: 2069.8898005\ttotal: 114ms\tremaining: 266ms\n",
      "15:\tlearn: 2039.0538705\ttotal: 122ms\tremaining: 259ms\n",
      "16:\tlearn: 2029.0271833\ttotal: 129ms\tremaining: 251ms\n",
      "17:\tlearn: 2025.3351037\ttotal: 137ms\tremaining: 244ms\n",
      "18:\tlearn: 2012.0684058\ttotal: 145ms\tremaining: 236ms\n",
      "19:\tlearn: 2010.7600290\ttotal: 152ms\tremaining: 228ms\n",
      "20:\tlearn: 1979.5574820\ttotal: 165ms\tremaining: 228ms\n",
      "21:\tlearn: 1950.9750186\ttotal: 175ms\tremaining: 222ms\n",
      "22:\tlearn: 1950.1108556\ttotal: 182ms\tremaining: 214ms\n",
      "23:\tlearn: 1936.8851120\ttotal: 190ms\tremaining: 205ms\n",
      "24:\tlearn: 1934.9579823\ttotal: 197ms\tremaining: 197ms\n",
      "25:\tlearn: 1921.1743188\ttotal: 204ms\tremaining: 188ms\n",
      "26:\tlearn: 1914.6254708\ttotal: 214ms\tremaining: 182ms\n",
      "27:\tlearn: 1913.9520491\ttotal: 221ms\tremaining: 174ms\n",
      "28:\tlearn: 1899.4769209\ttotal: 229ms\tremaining: 166ms\n",
      "29:\tlearn: 1886.0644352\ttotal: 238ms\tremaining: 159ms\n",
      "30:\tlearn: 1863.2255895\ttotal: 249ms\tremaining: 152ms\n",
      "31:\tlearn: 1856.4227998\ttotal: 264ms\tremaining: 149ms\n",
      "32:\tlearn: 1850.0909504\ttotal: 272ms\tremaining: 140ms\n",
      "33:\tlearn: 1834.8943621\ttotal: 280ms\tremaining: 132ms\n",
      "34:\tlearn: 1825.1326977\ttotal: 287ms\tremaining: 123ms\n",
      "35:\tlearn: 1816.0838496\ttotal: 295ms\tremaining: 115ms\n",
      "36:\tlearn: 1812.9045865\ttotal: 302ms\tremaining: 106ms\n",
      "37:\tlearn: 1805.6861123\ttotal: 310ms\tremaining: 97.8ms\n",
      "38:\tlearn: 1805.0393777\ttotal: 317ms\tremaining: 89.4ms\n",
      "39:\tlearn: 1794.1116114\ttotal: 325ms\tremaining: 81.2ms\n",
      "40:\tlearn: 1791.8344675\ttotal: 334ms\tremaining: 73.2ms\n",
      "41:\tlearn: 1764.1754374\ttotal: 346ms\tremaining: 66ms\n",
      "42:\tlearn: 1754.2215945\ttotal: 354ms\tremaining: 57.6ms\n",
      "43:\tlearn: 1748.9427152\ttotal: 362ms\tremaining: 49.3ms\n",
      "44:\tlearn: 1742.6092964\ttotal: 370ms\tremaining: 41.1ms\n",
      "45:\tlearn: 1733.1840752\ttotal: 378ms\tremaining: 32.8ms\n",
      "46:\tlearn: 1728.2831631\ttotal: 385ms\tremaining: 24.6ms\n",
      "47:\tlearn: 1721.3766633\ttotal: 392ms\tremaining: 16.3ms\n",
      "48:\tlearn: 1717.4902262\ttotal: 399ms\tremaining: 8.15ms\n",
      "49:\tlearn: 1715.9968142\ttotal: 407ms\tremaining: 0us\n",
      "r2 Score of <catboost.core.CatBoostRegressor object at 0x0000025191ED64D0> model on Training data is  0.8617038388952604\n",
      "----------------------------------------------------------------------------------------------------\n",
      "r2 Score of <catboost.core.CatBoostRegressor object at 0x0000025191ED64D0> model on test data is  0.8166595519217326\n",
      "----------------------------------------------------------------------------------------------------\n",
      "Mean Square Error of Model is 3869702.4452676135\n",
      "----------------------------------------------------------------------------------------------------\n",
      "Mean Absolute Error of Model is  1227.9043942225578\n"
     ]
    }
   ],
   "source": [
    "Predictor(CB2)"
   ]
  },
  {
   "cell_type": "code",
   "execution_count": 132,
   "id": "b0a07a52",
   "metadata": {},
   "outputs": [],
   "source": [
    "step2=StandardScaler()"
   ]
  },
  {
   "cell_type": "code",
   "execution_count": 133,
   "id": "84116650",
   "metadata": {},
   "outputs": [
    {
     "data": {
      "text/html": [
       "<style>#sk-container-id-1 {color: black;background-color: white;}#sk-container-id-1 pre{padding: 0;}#sk-container-id-1 div.sk-toggleable {background-color: white;}#sk-container-id-1 label.sk-toggleable__label {cursor: pointer;display: block;width: 100%;margin-bottom: 0;padding: 0.3em;box-sizing: border-box;text-align: center;}#sk-container-id-1 label.sk-toggleable__label-arrow:before {content: \"▸\";float: left;margin-right: 0.25em;color: #696969;}#sk-container-id-1 label.sk-toggleable__label-arrow:hover:before {color: black;}#sk-container-id-1 div.sk-estimator:hover label.sk-toggleable__label-arrow:before {color: black;}#sk-container-id-1 div.sk-toggleable__content {max-height: 0;max-width: 0;overflow: hidden;text-align: left;background-color: #f0f8ff;}#sk-container-id-1 div.sk-toggleable__content pre {margin: 0.2em;color: black;border-radius: 0.25em;background-color: #f0f8ff;}#sk-container-id-1 input.sk-toggleable__control:checked~div.sk-toggleable__content {max-height: 200px;max-width: 100%;overflow: auto;}#sk-container-id-1 input.sk-toggleable__control:checked~label.sk-toggleable__label-arrow:before {content: \"▾\";}#sk-container-id-1 div.sk-estimator input.sk-toggleable__control:checked~label.sk-toggleable__label {background-color: #d4ebff;}#sk-container-id-1 div.sk-label input.sk-toggleable__control:checked~label.sk-toggleable__label {background-color: #d4ebff;}#sk-container-id-1 input.sk-hidden--visually {border: 0;clip: rect(1px 1px 1px 1px);clip: rect(1px, 1px, 1px, 1px);height: 1px;margin: -1px;overflow: hidden;padding: 0;position: absolute;width: 1px;}#sk-container-id-1 div.sk-estimator {font-family: monospace;background-color: #f0f8ff;border: 1px dotted black;border-radius: 0.25em;box-sizing: border-box;margin-bottom: 0.5em;}#sk-container-id-1 div.sk-estimator:hover {background-color: #d4ebff;}#sk-container-id-1 div.sk-parallel-item::after {content: \"\";width: 100%;border-bottom: 1px solid gray;flex-grow: 1;}#sk-container-id-1 div.sk-label:hover label.sk-toggleable__label {background-color: #d4ebff;}#sk-container-id-1 div.sk-serial::before {content: \"\";position: absolute;border-left: 1px solid gray;box-sizing: border-box;top: 0;bottom: 0;left: 50%;z-index: 0;}#sk-container-id-1 div.sk-serial {display: flex;flex-direction: column;align-items: center;background-color: white;padding-right: 0.2em;padding-left: 0.2em;position: relative;}#sk-container-id-1 div.sk-item {position: relative;z-index: 1;}#sk-container-id-1 div.sk-parallel {display: flex;align-items: stretch;justify-content: center;background-color: white;position: relative;}#sk-container-id-1 div.sk-item::before, #sk-container-id-1 div.sk-parallel-item::before {content: \"\";position: absolute;border-left: 1px solid gray;box-sizing: border-box;top: 0;bottom: 0;left: 50%;z-index: -1;}#sk-container-id-1 div.sk-parallel-item {display: flex;flex-direction: column;z-index: 1;position: relative;background-color: white;}#sk-container-id-1 div.sk-parallel-item:first-child::after {align-self: flex-end;width: 50%;}#sk-container-id-1 div.sk-parallel-item:last-child::after {align-self: flex-start;width: 50%;}#sk-container-id-1 div.sk-parallel-item:only-child::after {width: 0;}#sk-container-id-1 div.sk-dashed-wrapped {border: 1px dashed gray;margin: 0 0.4em 0.5em 0.4em;box-sizing: border-box;padding-bottom: 0.4em;background-color: white;}#sk-container-id-1 div.sk-label label {font-family: monospace;font-weight: bold;display: inline-block;line-height: 1.2em;}#sk-container-id-1 div.sk-label-container {text-align: center;}#sk-container-id-1 div.sk-container {/* jupyter's `normalize.less` sets `[hidden] { display: none; }` but bootstrap.min.css set `[hidden] { display: none !important; }` so we also need the `!important` here to be able to override the default hidden behavior on the sphinx rendered scikit-learn.org. See: https://github.com/scikit-learn/scikit-learn/issues/21755 */display: inline-block !important;position: relative;}#sk-container-id-1 div.sk-text-repr-fallback {display: none;}</style><div id=\"sk-container-id-1\" class=\"sk-top-container\"><div class=\"sk-text-repr-fallback\"><pre>StandardScaler()</pre><b>In a Jupyter environment, please rerun this cell to show the HTML representation or trust the notebook. <br />On GitHub, the HTML representation is unable to render, please try loading this page with nbviewer.org.</b></div><div class=\"sk-container\" hidden><div class=\"sk-item\"><div class=\"sk-estimator sk-toggleable\"><input class=\"sk-toggleable__control sk-hidden--visually\" id=\"sk-estimator-id-1\" type=\"checkbox\" checked><label for=\"sk-estimator-id-1\" class=\"sk-toggleable__label sk-toggleable__label-arrow\">StandardScaler</label><div class=\"sk-toggleable__content\"><pre>StandardScaler()</pre></div></div></div></div></div>"
      ],
      "text/plain": [
       "StandardScaler()"
      ]
     },
     "execution_count": 133,
     "metadata": {},
     "output_type": "execute_result"
    }
   ],
   "source": [
    "step2"
   ]
  },
  {
   "cell_type": "code",
   "execution_count": 134,
   "id": "4b88e6e1",
   "metadata": {},
   "outputs": [],
   "source": [
    "pipe2=Pipeline([\n",
    "    (\"step1\" , step1),\n",
    "    (\"step2\" , step2),\n",
    "    (\"step3\" , CB2 )\n",
    "])"
   ]
  },
  {
   "cell_type": "code",
   "execution_count": 135,
   "id": "64d773b6",
   "metadata": {},
   "outputs": [
    {
     "name": "stdout",
     "output_type": "stream",
     "text": [
      "0:\tlearn: 3087.7978125\ttotal: 8.45ms\tremaining: 414ms\n",
      "1:\tlearn: 2659.7551376\ttotal: 16ms\tremaining: 385ms\n",
      "2:\tlearn: 2445.3574219\ttotal: 27.3ms\tremaining: 428ms\n",
      "3:\tlearn: 2336.2750787\ttotal: 39.4ms\tremaining: 453ms\n",
      "4:\tlearn: 2289.5463188\ttotal: 46.9ms\tremaining: 422ms\n",
      "5:\tlearn: 2260.3743991\ttotal: 54.3ms\tremaining: 398ms\n",
      "6:\tlearn: 2255.7706324\ttotal: 58.5ms\tremaining: 360ms\n",
      "7:\tlearn: 2227.3222316\ttotal: 66.1ms\tremaining: 347ms\n",
      "8:\tlearn: 2188.3871889\ttotal: 73.6ms\tremaining: 335ms\n",
      "9:\tlearn: 2176.1473145\ttotal: 81.2ms\tremaining: 325ms\n",
      "10:\tlearn: 2121.8998700\ttotal: 88.6ms\tremaining: 314ms\n",
      "11:\tlearn: 2090.7929271\ttotal: 96.5ms\tremaining: 306ms\n",
      "12:\tlearn: 2078.8749327\ttotal: 104ms\tremaining: 295ms\n",
      "13:\tlearn: 2076.4341618\ttotal: 107ms\tremaining: 276ms\n",
      "14:\tlearn: 2069.8898005\ttotal: 121ms\tremaining: 282ms\n",
      "15:\tlearn: 2039.0538705\ttotal: 130ms\tremaining: 276ms\n",
      "16:\tlearn: 2029.0271833\ttotal: 138ms\tremaining: 268ms\n",
      "17:\tlearn: 2025.3351037\ttotal: 145ms\tremaining: 258ms\n",
      "18:\tlearn: 2012.0684058\ttotal: 152ms\tremaining: 249ms\n",
      "19:\tlearn: 2010.7600290\ttotal: 160ms\tremaining: 239ms\n",
      "20:\tlearn: 1979.5574820\ttotal: 167ms\tremaining: 231ms\n",
      "21:\tlearn: 1950.9750186\ttotal: 174ms\tremaining: 222ms\n",
      "22:\tlearn: 1950.1108556\ttotal: 182ms\tremaining: 214ms\n",
      "23:\tlearn: 1936.8851120\ttotal: 190ms\tremaining: 206ms\n",
      "24:\tlearn: 1934.9579823\ttotal: 197ms\tremaining: 197ms\n",
      "25:\tlearn: 1921.1743188\ttotal: 210ms\tremaining: 194ms\n",
      "26:\tlearn: 1914.6254708\ttotal: 220ms\tremaining: 187ms\n",
      "27:\tlearn: 1913.9520491\ttotal: 228ms\tremaining: 179ms\n",
      "28:\tlearn: 1899.4769209\ttotal: 236ms\tremaining: 171ms\n",
      "29:\tlearn: 1886.0644352\ttotal: 244ms\tremaining: 163ms\n",
      "30:\tlearn: 1863.2255895\ttotal: 253ms\tremaining: 155ms\n",
      "31:\tlearn: 1856.4227998\ttotal: 263ms\tremaining: 148ms\n",
      "32:\tlearn: 1850.0909504\ttotal: 272ms\tremaining: 140ms\n",
      "33:\tlearn: 1834.8943621\ttotal: 281ms\tremaining: 132ms\n",
      "34:\tlearn: 1825.1326977\ttotal: 291ms\tremaining: 125ms\n",
      "35:\tlearn: 1816.0838496\ttotal: 304ms\tremaining: 118ms\n",
      "36:\tlearn: 1812.9045865\ttotal: 311ms\tremaining: 109ms\n",
      "37:\tlearn: 1805.6861123\ttotal: 320ms\tremaining: 101ms\n",
      "38:\tlearn: 1805.0393777\ttotal: 327ms\tremaining: 92.2ms\n",
      "39:\tlearn: 1794.1116114\ttotal: 335ms\tremaining: 83.7ms\n",
      "40:\tlearn: 1791.8344675\ttotal: 342ms\tremaining: 75.1ms\n",
      "41:\tlearn: 1764.1754374\ttotal: 350ms\tremaining: 66.6ms\n",
      "42:\tlearn: 1754.2215945\ttotal: 357ms\tremaining: 58.2ms\n",
      "43:\tlearn: 1748.9427152\ttotal: 365ms\tremaining: 49.7ms\n",
      "44:\tlearn: 1742.6092964\ttotal: 372ms\tremaining: 41.4ms\n",
      "45:\tlearn: 1733.1840752\ttotal: 388ms\tremaining: 33.8ms\n",
      "46:\tlearn: 1728.2831631\ttotal: 396ms\tremaining: 25.3ms\n",
      "47:\tlearn: 1721.3766633\ttotal: 403ms\tremaining: 16.8ms\n",
      "48:\tlearn: 1717.4902262\ttotal: 411ms\tremaining: 8.38ms\n",
      "49:\tlearn: 1715.9968142\ttotal: 418ms\tremaining: 0us\n"
     ]
    },
    {
     "data": {
      "text/html": [
       "<style>#sk-container-id-2 {color: black;background-color: white;}#sk-container-id-2 pre{padding: 0;}#sk-container-id-2 div.sk-toggleable {background-color: white;}#sk-container-id-2 label.sk-toggleable__label {cursor: pointer;display: block;width: 100%;margin-bottom: 0;padding: 0.3em;box-sizing: border-box;text-align: center;}#sk-container-id-2 label.sk-toggleable__label-arrow:before {content: \"▸\";float: left;margin-right: 0.25em;color: #696969;}#sk-container-id-2 label.sk-toggleable__label-arrow:hover:before {color: black;}#sk-container-id-2 div.sk-estimator:hover label.sk-toggleable__label-arrow:before {color: black;}#sk-container-id-2 div.sk-toggleable__content {max-height: 0;max-width: 0;overflow: hidden;text-align: left;background-color: #f0f8ff;}#sk-container-id-2 div.sk-toggleable__content pre {margin: 0.2em;color: black;border-radius: 0.25em;background-color: #f0f8ff;}#sk-container-id-2 input.sk-toggleable__control:checked~div.sk-toggleable__content {max-height: 200px;max-width: 100%;overflow: auto;}#sk-container-id-2 input.sk-toggleable__control:checked~label.sk-toggleable__label-arrow:before {content: \"▾\";}#sk-container-id-2 div.sk-estimator input.sk-toggleable__control:checked~label.sk-toggleable__label {background-color: #d4ebff;}#sk-container-id-2 div.sk-label input.sk-toggleable__control:checked~label.sk-toggleable__label {background-color: #d4ebff;}#sk-container-id-2 input.sk-hidden--visually {border: 0;clip: rect(1px 1px 1px 1px);clip: rect(1px, 1px, 1px, 1px);height: 1px;margin: -1px;overflow: hidden;padding: 0;position: absolute;width: 1px;}#sk-container-id-2 div.sk-estimator {font-family: monospace;background-color: #f0f8ff;border: 1px dotted black;border-radius: 0.25em;box-sizing: border-box;margin-bottom: 0.5em;}#sk-container-id-2 div.sk-estimator:hover {background-color: #d4ebff;}#sk-container-id-2 div.sk-parallel-item::after {content: \"\";width: 100%;border-bottom: 1px solid gray;flex-grow: 1;}#sk-container-id-2 div.sk-label:hover label.sk-toggleable__label {background-color: #d4ebff;}#sk-container-id-2 div.sk-serial::before {content: \"\";position: absolute;border-left: 1px solid gray;box-sizing: border-box;top: 0;bottom: 0;left: 50%;z-index: 0;}#sk-container-id-2 div.sk-serial {display: flex;flex-direction: column;align-items: center;background-color: white;padding-right: 0.2em;padding-left: 0.2em;position: relative;}#sk-container-id-2 div.sk-item {position: relative;z-index: 1;}#sk-container-id-2 div.sk-parallel {display: flex;align-items: stretch;justify-content: center;background-color: white;position: relative;}#sk-container-id-2 div.sk-item::before, #sk-container-id-2 div.sk-parallel-item::before {content: \"\";position: absolute;border-left: 1px solid gray;box-sizing: border-box;top: 0;bottom: 0;left: 50%;z-index: -1;}#sk-container-id-2 div.sk-parallel-item {display: flex;flex-direction: column;z-index: 1;position: relative;background-color: white;}#sk-container-id-2 div.sk-parallel-item:first-child::after {align-self: flex-end;width: 50%;}#sk-container-id-2 div.sk-parallel-item:last-child::after {align-self: flex-start;width: 50%;}#sk-container-id-2 div.sk-parallel-item:only-child::after {width: 0;}#sk-container-id-2 div.sk-dashed-wrapped {border: 1px dashed gray;margin: 0 0.4em 0.5em 0.4em;box-sizing: border-box;padding-bottom: 0.4em;background-color: white;}#sk-container-id-2 div.sk-label label {font-family: monospace;font-weight: bold;display: inline-block;line-height: 1.2em;}#sk-container-id-2 div.sk-label-container {text-align: center;}#sk-container-id-2 div.sk-container {/* jupyter's `normalize.less` sets `[hidden] { display: none; }` but bootstrap.min.css set `[hidden] { display: none !important; }` so we also need the `!important` here to be able to override the default hidden behavior on the sphinx rendered scikit-learn.org. See: https://github.com/scikit-learn/scikit-learn/issues/21755 */display: inline-block !important;position: relative;}#sk-container-id-2 div.sk-text-repr-fallback {display: none;}</style><div id=\"sk-container-id-2\" class=\"sk-top-container\"><div class=\"sk-text-repr-fallback\"><pre>Pipeline(steps=[(&#x27;step1&#x27;,\n",
       "                 ColumnTransformer(remainder=&#x27;passthrough&#x27;,\n",
       "                                   transformers=[(&#x27;col_tnf&#x27;,\n",
       "                                                  OneHotEncoder(drop=&#x27;first&#x27;,\n",
       "                                                                handle_unknown=&#x27;ignore&#x27;,\n",
       "                                                                sparse=False),\n",
       "                                                  [0, 1, 2, 4])])),\n",
       "                (&#x27;step2&#x27;, StandardScaler()),\n",
       "                (&#x27;step3&#x27;,\n",
       "                 &lt;catboost.core.CatBoostRegressor object at 0x0000025191ED64D0&gt;)])</pre><b>In a Jupyter environment, please rerun this cell to show the HTML representation or trust the notebook. <br />On GitHub, the HTML representation is unable to render, please try loading this page with nbviewer.org.</b></div><div class=\"sk-container\" hidden><div class=\"sk-item sk-dashed-wrapped\"><div class=\"sk-label-container\"><div class=\"sk-label sk-toggleable\"><input class=\"sk-toggleable__control sk-hidden--visually\" id=\"sk-estimator-id-2\" type=\"checkbox\" ><label for=\"sk-estimator-id-2\" class=\"sk-toggleable__label sk-toggleable__label-arrow\">Pipeline</label><div class=\"sk-toggleable__content\"><pre>Pipeline(steps=[(&#x27;step1&#x27;,\n",
       "                 ColumnTransformer(remainder=&#x27;passthrough&#x27;,\n",
       "                                   transformers=[(&#x27;col_tnf&#x27;,\n",
       "                                                  OneHotEncoder(drop=&#x27;first&#x27;,\n",
       "                                                                handle_unknown=&#x27;ignore&#x27;,\n",
       "                                                                sparse=False),\n",
       "                                                  [0, 1, 2, 4])])),\n",
       "                (&#x27;step2&#x27;, StandardScaler()),\n",
       "                (&#x27;step3&#x27;,\n",
       "                 &lt;catboost.core.CatBoostRegressor object at 0x0000025191ED64D0&gt;)])</pre></div></div></div><div class=\"sk-serial\"><div class=\"sk-item sk-dashed-wrapped\"><div class=\"sk-label-container\"><div class=\"sk-label sk-toggleable\"><input class=\"sk-toggleable__control sk-hidden--visually\" id=\"sk-estimator-id-3\" type=\"checkbox\" ><label for=\"sk-estimator-id-3\" class=\"sk-toggleable__label sk-toggleable__label-arrow\">step1: ColumnTransformer</label><div class=\"sk-toggleable__content\"><pre>ColumnTransformer(remainder=&#x27;passthrough&#x27;,\n",
       "                  transformers=[(&#x27;col_tnf&#x27;,\n",
       "                                 OneHotEncoder(drop=&#x27;first&#x27;,\n",
       "                                               handle_unknown=&#x27;ignore&#x27;,\n",
       "                                               sparse=False),\n",
       "                                 [0, 1, 2, 4])])</pre></div></div></div><div class=\"sk-parallel\"><div class=\"sk-parallel-item\"><div class=\"sk-item\"><div class=\"sk-label-container\"><div class=\"sk-label sk-toggleable\"><input class=\"sk-toggleable__control sk-hidden--visually\" id=\"sk-estimator-id-4\" type=\"checkbox\" ><label for=\"sk-estimator-id-4\" class=\"sk-toggleable__label sk-toggleable__label-arrow\">col_tnf</label><div class=\"sk-toggleable__content\"><pre>[0, 1, 2, 4]</pre></div></div></div><div class=\"sk-serial\"><div class=\"sk-item\"><div class=\"sk-estimator sk-toggleable\"><input class=\"sk-toggleable__control sk-hidden--visually\" id=\"sk-estimator-id-5\" type=\"checkbox\" ><label for=\"sk-estimator-id-5\" class=\"sk-toggleable__label sk-toggleable__label-arrow\">OneHotEncoder</label><div class=\"sk-toggleable__content\"><pre>OneHotEncoder(drop=&#x27;first&#x27;, handle_unknown=&#x27;ignore&#x27;, sparse=False)</pre></div></div></div></div></div></div><div class=\"sk-parallel-item\"><div class=\"sk-item\"><div class=\"sk-label-container\"><div class=\"sk-label sk-toggleable\"><input class=\"sk-toggleable__control sk-hidden--visually\" id=\"sk-estimator-id-6\" type=\"checkbox\" ><label for=\"sk-estimator-id-6\" class=\"sk-toggleable__label sk-toggleable__label-arrow\">remainder</label><div class=\"sk-toggleable__content\"><pre>[&#x27;Total_Stops&#x27;, &#x27;month_of_Journey&#x27;, &#x27;Dep_Hour&#x27;, &#x27;Total_Hrs&#x27;]</pre></div></div></div><div class=\"sk-serial\"><div class=\"sk-item\"><div class=\"sk-estimator sk-toggleable\"><input class=\"sk-toggleable__control sk-hidden--visually\" id=\"sk-estimator-id-7\" type=\"checkbox\" ><label for=\"sk-estimator-id-7\" class=\"sk-toggleable__label sk-toggleable__label-arrow\">passthrough</label><div class=\"sk-toggleable__content\"><pre>passthrough</pre></div></div></div></div></div></div></div></div><div class=\"sk-item\"><div class=\"sk-estimator sk-toggleable\"><input class=\"sk-toggleable__control sk-hidden--visually\" id=\"sk-estimator-id-8\" type=\"checkbox\" ><label for=\"sk-estimator-id-8\" class=\"sk-toggleable__label sk-toggleable__label-arrow\">StandardScaler</label><div class=\"sk-toggleable__content\"><pre>StandardScaler()</pre></div></div></div><div class=\"sk-item\"><div class=\"sk-estimator sk-toggleable\"><input class=\"sk-toggleable__control sk-hidden--visually\" id=\"sk-estimator-id-9\" type=\"checkbox\" ><label for=\"sk-estimator-id-9\" class=\"sk-toggleable__label sk-toggleable__label-arrow\">CatBoostRegressor</label><div class=\"sk-toggleable__content\"><pre>&lt;catboost.core.CatBoostRegressor object at 0x0000025191ED64D0&gt;</pre></div></div></div></div></div></div></div>"
      ],
      "text/plain": [
       "Pipeline(steps=[('step1',\n",
       "                 ColumnTransformer(remainder='passthrough',\n",
       "                                   transformers=[('col_tnf',\n",
       "                                                  OneHotEncoder(drop='first',\n",
       "                                                                handle_unknown='ignore',\n",
       "                                                                sparse=False),\n",
       "                                                  [0, 1, 2, 4])])),\n",
       "                ('step2', StandardScaler()),\n",
       "                ('step3',\n",
       "                 <catboost.core.CatBoostRegressor object at 0x0000025191ED64D0>)])"
      ]
     },
     "execution_count": 135,
     "metadata": {},
     "output_type": "execute_result"
    }
   ],
   "source": [
    "pipe2.fit(x_train , y_train )"
   ]
  },
  {
   "cell_type": "code",
   "execution_count": 136,
   "id": "227997bb",
   "metadata": {},
   "outputs": [
    {
     "data": {
      "text/plain": [
       "array([7289.69400584])"
      ]
     },
     "execution_count": 136,
     "metadata": {},
     "output_type": "execute_result"
    }
   ],
   "source": [
    "pipe2.predict([[\"Jet Airways\" , \"Banglore\",\"Delhi\", 0.0 , \"No Info\" , 4 , 7 , 3.0]])"
   ]
  },
  {
   "cell_type": "code",
   "execution_count": 137,
   "id": "1ee294a0",
   "metadata": {},
   "outputs": [],
   "source": [
    "#with open(\"Catboosting2.pkl\" , 'wb') as f:\n",
    "   # pickle.dump(pipe2 , f)"
   ]
  },
  {
   "cell_type": "markdown",
   "id": "a36ed8f0",
   "metadata": {},
   "source": [
    "# Now We Will Do it After Treating Outliers"
   ]
  },
  {
   "cell_type": "code",
   "execution_count": 138,
   "id": "0a4f69af",
   "metadata": {},
   "outputs": [
    {
     "data": {
      "text/html": [
       "<div>\n",
       "<style scoped>\n",
       "    .dataframe tbody tr th:only-of-type {\n",
       "        vertical-align: middle;\n",
       "    }\n",
       "\n",
       "    .dataframe tbody tr th {\n",
       "        vertical-align: top;\n",
       "    }\n",
       "\n",
       "    .dataframe thead th {\n",
       "        text-align: right;\n",
       "    }\n",
       "</style>\n",
       "<table border=\"1\" class=\"dataframe\">\n",
       "  <thead>\n",
       "    <tr style=\"text-align: right;\">\n",
       "      <th></th>\n",
       "      <th>Airline</th>\n",
       "      <th>Source</th>\n",
       "      <th>Destination</th>\n",
       "      <th>Total_Stops</th>\n",
       "      <th>Additional_Info</th>\n",
       "      <th>Price</th>\n",
       "      <th>month_of_Journey</th>\n",
       "      <th>Dep_Hour</th>\n",
       "      <th>Total_Hrs</th>\n",
       "    </tr>\n",
       "  </thead>\n",
       "  <tbody>\n",
       "    <tr>\n",
       "      <th>0</th>\n",
       "      <td>IndiGo</td>\n",
       "      <td>Banglore</td>\n",
       "      <td>New Delhi</td>\n",
       "      <td>0.0</td>\n",
       "      <td>No Info</td>\n",
       "      <td>3897.0</td>\n",
       "      <td>3</td>\n",
       "      <td>22</td>\n",
       "      <td>2.5</td>\n",
       "    </tr>\n",
       "  </tbody>\n",
       "</table>\n",
       "</div>"
      ],
      "text/plain": [
       "  Airline    Source Destination  Total_Stops Additional_Info   Price  \\\n",
       "0  IndiGo  Banglore   New Delhi          0.0         No Info  3897.0   \n",
       "\n",
       "   month_of_Journey  Dep_Hour  Total_Hrs  \n",
       "0                 3        22        2.5  "
      ]
     },
     "execution_count": 138,
     "metadata": {},
     "output_type": "execute_result"
    }
   ],
   "source": [
    "temp_train.head(1)"
   ]
  },
  {
   "cell_type": "code",
   "execution_count": 139,
   "id": "1c0542b3",
   "metadata": {},
   "outputs": [],
   "source": [
    "num=temp_train.select_dtypes(exclude=\"object\")\n",
    "obj=temp_train.select_dtypes(include=\"object\")"
   ]
  },
  {
   "cell_type": "code",
   "execution_count": 140,
   "id": "2fe11aee",
   "metadata": {},
   "outputs": [
    {
     "data": {
      "image/png": "[encoded data removed]",
      "text/plain": [
       "<Figure size 864x1296 with 5 Axes>"
      ]
     },
     "metadata": {
      "needs_background": "light"
     },
     "output_type": "display_data"
    }
   ],
   "source": [
    "plt.figure(figsize=(12,18))\n",
    "pltnumber=1\n",
    "for i in num.columns:\n",
    "    if pltnumber<=8:\n",
    "        plt.subplot(4,2,pltnumber)\n",
    "        sns.boxplot(num[i])\n",
    "        plt.xlabel(i , fontsize=10)\n",
    "        pltnumber=pltnumber+1"
   ]
  },
  {
   "cell_type": "code",
   "execution_count": 141,
   "id": "659c8ce9",
   "metadata": {},
   "outputs": [],
   "source": [
    "def outlier(df,col):\n",
    "    iqr=df[col].quantile(0.75)-df[col].quantile(0.25)\n",
    "    upper=df[col].quantile(0.75)+(iqr*1.5)\n",
    "    lower=df[col].quantile(0.25)-(iqr*1.5)\n",
    "    df.loc[df[col]<=lower , col]=lower\n",
    "    df.loc[df[col]>=upper , col]=upper"
   ]
  },
  {
   "cell_type": "code",
   "execution_count": 142,
   "id": "3b3f042a",
   "metadata": {},
   "outputs": [],
   "source": [
    "col=num.columns"
   ]
  },
  {
   "cell_type": "code",
   "execution_count": 143,
   "id": "7ca5a57c",
   "metadata": {},
   "outputs": [],
   "source": [
    "for i in col:\n",
    "    outlier(num, i)"
   ]
  },
  {
   "cell_type": "code",
   "execution_count": 144,
   "id": "49bfda99",
   "metadata": {},
   "outputs": [
    {
     "data": {
      "image/png": "[encoded data removed]",
      "text/plain": [
       "<Figure size 864x1296 with 5 Axes>"
      ]
     },
     "metadata": {
      "needs_background": "light"
     },
     "output_type": "display_data"
    }
   ],
   "source": [
    "plt.figure(figsize=(12,18))\n",
    "pltnumber=1\n",
    "for i in num.columns:\n",
    "    if pltnumber<=8:\n",
    "        plt.subplot(4,2,pltnumber)\n",
    "        sns.boxplot(num[i])\n",
    "        plt.xlabel(i , fontsize=10)\n",
    "        pltnumber=pltnumber+1"
   ]
  },
  {
   "cell_type": "code",
   "execution_count": 145,
   "id": "87f99db0",
   "metadata": {},
   "outputs": [],
   "source": [
    "final_df=pd.concat([num , obj] , axis=1)"
   ]
  },
  {
   "cell_type": "code",
   "execution_count": 146,
   "id": "612b7ed6",
   "metadata": {},
   "outputs": [],
   "source": [
    "x=final_df.drop(\"Price\" , axis=1)\n",
    "y=final_df[\"Price\"]"
   ]
  },
  {
   "cell_type": "code",
   "execution_count": 147,
   "id": "e1e000ca",
   "metadata": {},
   "outputs": [],
   "source": [
    "x_train  , x_test ,y_train , y_test =train_test_split(x , y , test_size=0.2)"
   ]
  },
  {
   "cell_type": "code",
   "execution_count": 148,
   "id": "aa923581",
   "metadata": {},
   "outputs": [],
   "source": [
    "step1=ColumnTransformer(transformers=[\n",
    "    (\"one_en\" , OneHotEncoder(sparse=False , drop=\"first\" , handle_unknown=\"ignore\") , [4,5,6,7])\n",
    "    \n",
    "    \n",
    "] , remainder=\"passthrough\")\n",
    "step2=StandardScaler()"
   ]
  },
  {
   "cell_type": "code",
   "execution_count": 149,
   "id": "8dba2c28",
   "metadata": {},
   "outputs": [
    {
     "data": {
      "text/html": [
       "<style>#sk-container-id-3 {color: black;background-color: white;}#sk-container-id-3 pre{padding: 0;}#sk-container-id-3 div.sk-toggleable {background-color: white;}#sk-container-id-3 label.sk-toggleable__label {cursor: pointer;display: block;width: 100%;margin-bottom: 0;padding: 0.3em;box-sizing: border-box;text-align: center;}#sk-container-id-3 label.sk-toggleable__label-arrow:before {content: \"▸\";float: left;margin-right: 0.25em;color: #696969;}#sk-container-id-3 label.sk-toggleable__label-arrow:hover:before {color: black;}#sk-container-id-3 div.sk-estimator:hover label.sk-toggleable__label-arrow:before {color: black;}#sk-container-id-3 div.sk-toggleable__content {max-height: 0;max-width: 0;overflow: hidden;text-align: left;background-color: #f0f8ff;}#sk-container-id-3 div.sk-toggleable__content pre {margin: 0.2em;color: black;border-radius: 0.25em;background-color: #f0f8ff;}#sk-container-id-3 input.sk-toggleable__control:checked~div.sk-toggleable__content {max-height: 200px;max-width: 100%;overflow: auto;}#sk-container-id-3 input.sk-toggleable__control:checked~label.sk-toggleable__label-arrow:before {content: \"▾\";}#sk-container-id-3 div.sk-estimator input.sk-toggleable__control:checked~label.sk-toggleable__label {background-color: #d4ebff;}#sk-container-id-3 div.sk-label input.sk-toggleable__control:checked~label.sk-toggleable__label {background-color: #d4ebff;}#sk-container-id-3 input.sk-hidden--visually {border: 0;clip: rect(1px 1px 1px 1px);clip: rect(1px, 1px, 1px, 1px);height: 1px;margin: -1px;overflow: hidden;padding: 0;position: absolute;width: 1px;}#sk-container-id-3 div.sk-estimator {font-family: monospace;background-color: #f0f8ff;border: 1px dotted black;border-radius: 0.25em;box-sizing: border-box;margin-bottom: 0.5em;}#sk-container-id-3 div.sk-estimator:hover {background-color: #d4ebff;}#sk-container-id-3 div.sk-parallel-item::after {content: \"\";width: 100%;border-bottom: 1px solid gray;flex-grow: 1;}#sk-container-id-3 div.sk-label:hover label.sk-toggleable__label {background-color: #d4ebff;}#sk-container-id-3 div.sk-serial::before {content: \"\";position: absolute;border-left: 1px solid gray;box-sizing: border-box;top: 0;bottom: 0;left: 50%;z-index: 0;}#sk-container-id-3 div.sk-serial {display: flex;flex-direction: column;align-items: center;background-color: white;padding-right: 0.2em;padding-left: 0.2em;position: relative;}#sk-container-id-3 div.sk-item {position: relative;z-index: 1;}#sk-container-id-3 div.sk-parallel {display: flex;align-items: stretch;justify-content: center;background-color: white;position: relative;}#sk-container-id-3 div.sk-item::before, #sk-container-id-3 div.sk-parallel-item::before {content: \"\";position: absolute;border-left: 1px solid gray;box-sizing: border-box;top: 0;bottom: 0;left: 50%;z-index: -1;}#sk-container-id-3 div.sk-parallel-item {display: flex;flex-direction: column;z-index: 1;position: relative;background-color: white;}#sk-container-id-3 div.sk-parallel-item:first-child::after {align-self: flex-end;width: 50%;}#sk-container-id-3 div.sk-parallel-item:last-child::after {align-self: flex-start;width: 50%;}#sk-container-id-3 div.sk-parallel-item:only-child::after {width: 0;}#sk-container-id-3 div.sk-dashed-wrapped {border: 1px dashed gray;margin: 0 0.4em 0.5em 0.4em;box-sizing: border-box;padding-bottom: 0.4em;background-color: white;}#sk-container-id-3 div.sk-label label {font-family: monospace;font-weight: bold;display: inline-block;line-height: 1.2em;}#sk-container-id-3 div.sk-label-container {text-align: center;}#sk-container-id-3 div.sk-container {/* jupyter's `normalize.less` sets `[hidden] { display: none; }` but bootstrap.min.css set `[hidden] { display: none !important; }` so we also need the `!important` here to be able to override the default hidden behavior on the sphinx rendered scikit-learn.org. See: https://github.com/scikit-learn/scikit-learn/issues/21755 */display: inline-block !important;position: relative;}#sk-container-id-3 div.sk-text-repr-fallback {display: none;}</style><div id=\"sk-container-id-3\" class=\"sk-top-container\"><div class=\"sk-text-repr-fallback\"><pre>ColumnTransformer(remainder=&#x27;passthrough&#x27;,\n",
       "                  transformers=[(&#x27;one_en&#x27;,\n",
       "                                 OneHotEncoder(drop=&#x27;first&#x27;,\n",
       "                                               handle_unknown=&#x27;ignore&#x27;,\n",
       "                                               sparse=False),\n",
       "                                 [4, 5, 6, 7])])</pre><b>In a Jupyter environment, please rerun this cell to show the HTML representation or trust the notebook. <br />On GitHub, the HTML representation is unable to render, please try loading this page with nbviewer.org.</b></div><div class=\"sk-container\" hidden><div class=\"sk-item sk-dashed-wrapped\"><div class=\"sk-label-container\"><div class=\"sk-label sk-toggleable\"><input class=\"sk-toggleable__control sk-hidden--visually\" id=\"sk-estimator-id-10\" type=\"checkbox\" ><label for=\"sk-estimator-id-10\" class=\"sk-toggleable__label sk-toggleable__label-arrow\">ColumnTransformer</label><div class=\"sk-toggleable__content\"><pre>ColumnTransformer(remainder=&#x27;passthrough&#x27;,\n",
       "                  transformers=[(&#x27;one_en&#x27;,\n",
       "                                 OneHotEncoder(drop=&#x27;first&#x27;,\n",
       "                                               handle_unknown=&#x27;ignore&#x27;,\n",
       "                                               sparse=False),\n",
       "                                 [4, 5, 6, 7])])</pre></div></div></div><div class=\"sk-parallel\"><div class=\"sk-parallel-item\"><div class=\"sk-item\"><div class=\"sk-label-container\"><div class=\"sk-label sk-toggleable\"><input class=\"sk-toggleable__control sk-hidden--visually\" id=\"sk-estimator-id-11\" type=\"checkbox\" ><label for=\"sk-estimator-id-11\" class=\"sk-toggleable__label sk-toggleable__label-arrow\">one_en</label><div class=\"sk-toggleable__content\"><pre>[4, 5, 6, 7]</pre></div></div></div><div class=\"sk-serial\"><div class=\"sk-item\"><div class=\"sk-estimator sk-toggleable\"><input class=\"sk-toggleable__control sk-hidden--visually\" id=\"sk-estimator-id-12\" type=\"checkbox\" ><label for=\"sk-estimator-id-12\" class=\"sk-toggleable__label sk-toggleable__label-arrow\">OneHotEncoder</label><div class=\"sk-toggleable__content\"><pre>OneHotEncoder(drop=&#x27;first&#x27;, handle_unknown=&#x27;ignore&#x27;, sparse=False)</pre></div></div></div></div></div></div><div class=\"sk-parallel-item\"><div class=\"sk-item\"><div class=\"sk-label-container\"><div class=\"sk-label sk-toggleable\"><input class=\"sk-toggleable__control sk-hidden--visually\" id=\"sk-estimator-id-13\" type=\"checkbox\" ><label for=\"sk-estimator-id-13\" class=\"sk-toggleable__label sk-toggleable__label-arrow\">remainder</label><div class=\"sk-toggleable__content\"><pre></pre></div></div></div><div class=\"sk-serial\"><div class=\"sk-item\"><div class=\"sk-estimator sk-toggleable\"><input class=\"sk-toggleable__control sk-hidden--visually\" id=\"sk-estimator-id-14\" type=\"checkbox\" ><label for=\"sk-estimator-id-14\" class=\"sk-toggleable__label sk-toggleable__label-arrow\">passthrough</label><div class=\"sk-toggleable__content\"><pre>passthrough</pre></div></div></div></div></div></div></div></div></div></div>"
      ],
      "text/plain": [
       "ColumnTransformer(remainder='passthrough',\n",
       "                  transformers=[('one_en',\n",
       "                                 OneHotEncoder(drop='first',\n",
       "                                               handle_unknown='ignore',\n",
       "                                               sparse=False),\n",
       "                                 [4, 5, 6, 7])])"
      ]
     },
     "execution_count": 149,
     "metadata": {},
     "output_type": "execute_result"
    }
   ],
   "source": [
    "step1"
   ]
  },
  {
   "cell_type": "code",
   "execution_count": 150,
   "id": "c344f6ae",
   "metadata": {},
   "outputs": [
    {
     "data": {
      "text/html": [
       "<div>\n",
       "<style scoped>\n",
       "    .dataframe tbody tr th:only-of-type {\n",
       "        vertical-align: middle;\n",
       "    }\n",
       "\n",
       "    .dataframe tbody tr th {\n",
       "        vertical-align: top;\n",
       "    }\n",
       "\n",
       "    .dataframe thead th {\n",
       "        text-align: right;\n",
       "    }\n",
       "</style>\n",
       "<table border=\"1\" class=\"dataframe\">\n",
       "  <thead>\n",
       "    <tr style=\"text-align: right;\">\n",
       "      <th></th>\n",
       "      <th>Total_Stops</th>\n",
       "      <th>month_of_Journey</th>\n",
       "      <th>Dep_Hour</th>\n",
       "      <th>Total_Hrs</th>\n",
       "      <th>Airline</th>\n",
       "      <th>Source</th>\n",
       "      <th>Destination</th>\n",
       "      <th>Additional_Info</th>\n",
       "    </tr>\n",
       "  </thead>\n",
       "  <tbody>\n",
       "    <tr>\n",
       "      <th>8420</th>\n",
       "      <td>1.0</td>\n",
       "      <td>5.0</td>\n",
       "      <td>23</td>\n",
       "      <td>8.15</td>\n",
       "      <td>GoAir</td>\n",
       "      <td>Kolkata</td>\n",
       "      <td>Banglore</td>\n",
       "      <td>No Info</td>\n",
       "    </tr>\n",
       "  </tbody>\n",
       "</table>\n",
       "</div>"
      ],
      "text/plain": [
       "      Total_Stops  month_of_Journey  Dep_Hour  Total_Hrs Airline   Source  \\\n",
       "8420          1.0               5.0        23       8.15   GoAir  Kolkata   \n",
       "\n",
       "     Destination Additional_Info  \n",
       "8420    Banglore         No Info  "
      ]
     },
     "execution_count": 150,
     "metadata": {},
     "output_type": "execute_result"
    }
   ],
   "source": [
    "x_train.head(1)"
   ]
  },
  {
   "cell_type": "code",
   "execution_count": 151,
   "id": "fe39af23",
   "metadata": {},
   "outputs": [
    {
     "data": {
      "text/html": [
       "<div>\n",
       "<style scoped>\n",
       "    .dataframe tbody tr th:only-of-type {\n",
       "        vertical-align: middle;\n",
       "    }\n",
       "\n",
       "    .dataframe tbody tr th {\n",
       "        vertical-align: top;\n",
       "    }\n",
       "\n",
       "    .dataframe thead th {\n",
       "        text-align: right;\n",
       "    }\n",
       "</style>\n",
       "<table border=\"1\" class=\"dataframe\">\n",
       "  <thead>\n",
       "    <tr style=\"text-align: right;\">\n",
       "      <th></th>\n",
       "      <th>Total_Stops</th>\n",
       "      <th>month_of_Journey</th>\n",
       "      <th>Dep_Hour</th>\n",
       "      <th>Total_Hrs</th>\n",
       "      <th>Airline</th>\n",
       "      <th>Source</th>\n",
       "      <th>Destination</th>\n",
       "      <th>Additional_Info</th>\n",
       "    </tr>\n",
       "  </thead>\n",
       "  <tbody>\n",
       "    <tr>\n",
       "      <th>0</th>\n",
       "      <td>0.0</td>\n",
       "      <td>3.0</td>\n",
       "      <td>22</td>\n",
       "      <td>2.5</td>\n",
       "      <td>IndiGo</td>\n",
       "      <td>Banglore</td>\n",
       "      <td>New Delhi</td>\n",
       "      <td>No Info</td>\n",
       "    </tr>\n",
       "  </tbody>\n",
       "</table>\n",
       "</div>"
      ],
      "text/plain": [
       "   Total_Stops  month_of_Journey  Dep_Hour  Total_Hrs Airline    Source  \\\n",
       "0          0.0               3.0        22        2.5  IndiGo  Banglore   \n",
       "\n",
       "  Destination Additional_Info  \n",
       "0   New Delhi         No Info  "
      ]
     },
     "execution_count": 151,
     "metadata": {},
     "output_type": "execute_result"
    }
   ],
   "source": [
    "x.head(1)"
   ]
  },
  {
   "cell_type": "code",
   "execution_count": 152,
   "id": "82890056",
   "metadata": {},
   "outputs": [
    {
     "data": {
      "text/plain": [
       "8420    6945.0\n",
       "Name: Price, dtype: float64"
      ]
     },
     "execution_count": 152,
     "metadata": {},
     "output_type": "execute_result"
    }
   ],
   "source": [
    "y_train.head(1)"
   ]
  },
  {
   "cell_type": "code",
   "execution_count": 153,
   "id": "832cb47f",
   "metadata": {},
   "outputs": [],
   "source": [
    "def predictor(model):\n",
    "    pipe=Pipeline([\n",
    "    (\"step1\" , step1),\n",
    "    (\"step2\" , step2),\n",
    "    (\"Step3\" , model)    \n",
    "    ])\n",
    "    pipe.fit(x_train , y_train)\n",
    "    y_pred_train=pipe.predict(x_train)\n",
    "    y_pred=pipe.predict(x_test)\n",
    "    a=r2_score(y_train , y_pred_train)\n",
    "    b=r2_score(y_test , y_pred)\n",
    "    tr_r2.append(a)\n",
    "    test_r2.append(b)\n",
    "    \n",
    "    sc_mse.append(mean_squared_error(y_test , y_pred))\n",
    "    sc_mae.append(mean_absolute_error(y_test , y_pred))\n",
    "    \n",
    "    print(f\"r2 Score of {model} model on Training data is \" , a)\n",
    "    print(\"-\"*100)\n",
    "    print(f\"r2 Score of {model} model on test data is \" , b)\n",
    "    print(\"-\"*100)\n",
    "    print(\"Mean Square Error of Model is\" , mean_squared_error(y_test , y_pred))\n",
    "    print(\"-\"*100)\n",
    "    print(\"Mean Absolute Error of Model is \" , mean_absolute_error(y_test , y_pred))"
   ]
  },
  {
   "cell_type": "code",
   "execution_count": 154,
   "id": "c6a96421",
   "metadata": {},
   "outputs": [
    {
     "name": "stdout",
     "output_type": "stream",
     "text": [
      "r2 Score of LinearRegression() model on Training data is  0.6863165379018921\n",
      "----------------------------------------------------------------------------------------------------\n",
      "r2 Score of LinearRegression() model on test data is  0.6738843944578847\n",
      "----------------------------------------------------------------------------------------------------\n",
      "Mean Square Error of Model is 6043909.998119364\n",
      "----------------------------------------------------------------------------------------------------\n",
      "Mean Absolute Error of Model is  1738.5885545973335\n"
     ]
    }
   ],
   "source": [
    "predictor(lr)"
   ]
  },
  {
   "cell_type": "code",
   "execution_count": 155,
   "id": "dc880a22",
   "metadata": {},
   "outputs": [
    {
     "name": "stdout",
     "output_type": "stream",
     "text": [
      "r2 Score of SVR() model on Training data is  0.08973608461797589\n",
      "----------------------------------------------------------------------------------------------------\n",
      "r2 Score of SVR() model on test data is  0.07219704693995643\n",
      "----------------------------------------------------------------------------------------------------\n",
      "Mean Square Error of Model is 17194999.10150757\n",
      "----------------------------------------------------------------------------------------------------\n",
      "Mean Absolute Error of Model is  3317.0498860050047\n"
     ]
    }
   ],
   "source": [
    "predictor(support)"
   ]
  },
  {
   "cell_type": "code",
   "execution_count": 156,
   "id": "d6a3c5c9",
   "metadata": {},
   "outputs": [
    {
     "name": "stdout",
     "output_type": "stream",
     "text": [
      "r2 Score of DecisionTreeRegressor() model on Training data is  0.9467856445992938\n",
      "----------------------------------------------------------------------------------------------------\n",
      "r2 Score of DecisionTreeRegressor() model on test data is  0.7226346708391281\n",
      "----------------------------------------------------------------------------------------------------\n",
      "Mean Square Error of Model is 5140419.708711462\n",
      "----------------------------------------------------------------------------------------------------\n",
      "Mean Absolute Error of Model is  1220.0488111950442\n"
     ]
    }
   ],
   "source": [
    "predictor(dtr)"
   ]
  },
  {
   "cell_type": "code",
   "execution_count": 157,
   "id": "d0e86d03",
   "metadata": {},
   "outputs": [
    {
     "name": "stdout",
     "output_type": "stream",
     "text": [
      "r2 Score of RandomForestRegressor() model on Training data is  0.9352518712400271\n",
      "----------------------------------------------------------------------------------------------------\n",
      "r2 Score of RandomForestRegressor() model on test data is  0.7886708507902362\n",
      "----------------------------------------------------------------------------------------------------\n",
      "Mean Square Error of Model is 3916569.2659194227\n",
      "----------------------------------------------------------------------------------------------------\n",
      "Mean Absolute Error of Model is  1090.2347814396194\n"
     ]
    }
   ],
   "source": [
    "predictor(rfr)"
   ]
  },
  {
   "cell_type": "code",
   "execution_count": 158,
   "id": "9ddbed21",
   "metadata": {},
   "outputs": [
    {
     "name": "stdout",
     "output_type": "stream",
     "text": [
      "r2 Score of BaggingRegressor() model on Training data is  0.9296506994516195\n",
      "----------------------------------------------------------------------------------------------------\n",
      "r2 Score of BaggingRegressor() model on test data is  0.7826827399174278\n",
      "----------------------------------------------------------------------------------------------------\n",
      "Mean Square Error of Model is 4027547.0988073996\n",
      "----------------------------------------------------------------------------------------------------\n",
      "Mean Absolute Error of Model is  1115.9118562130368\n"
     ]
    }
   ],
   "source": [
    "predictor(br)"
   ]
  },
  {
   "cell_type": "code",
   "execution_count": 159,
   "id": "12a3f1cf",
   "metadata": {},
   "outputs": [
    {
     "name": "stdout",
     "output_type": "stream",
     "text": [
      "r2 Score of AdaBoostRegressor() model on Training data is  0.6397143275277666\n",
      "----------------------------------------------------------------------------------------------------\n",
      "r2 Score of AdaBoostRegressor() model on test data is  0.6304092422389692\n",
      "----------------------------------------------------------------------------------------------------\n",
      "Mean Square Error of Model is 6849636.258072083\n",
      "----------------------------------------------------------------------------------------------------\n",
      "Mean Absolute Error of Model is  1969.250149277248\n"
     ]
    }
   ],
   "source": [
    "predictor(abr)"
   ]
  },
  {
   "cell_type": "code",
   "execution_count": 160,
   "id": "cd41827f",
   "metadata": {},
   "outputs": [
    {
     "name": "stdout",
     "output_type": "stream",
     "text": [
      "r2 Score of ExtraTreesRegressor() model on Training data is  0.9467855665753154\n",
      "----------------------------------------------------------------------------------------------------\n",
      "r2 Score of ExtraTreesRegressor() model on test data is  0.7564566731802148\n",
      "----------------------------------------------------------------------------------------------------\n",
      "Mean Square Error of Model is 4513595.556074241\n",
      "----------------------------------------------------------------------------------------------------\n",
      "Mean Absolute Error of Model is  1151.300358858658\n"
     ]
    }
   ],
   "source": [
    "predictor(etr)"
   ]
  },
  {
   "cell_type": "code",
   "execution_count": 161,
   "id": "3761d410",
   "metadata": {},
   "outputs": [
    {
     "name": "stdout",
     "output_type": "stream",
     "text": [
      "r2 Score of GradientBoostingRegressor() model on Training data is  0.7846472987433813\n",
      "----------------------------------------------------------------------------------------------------\n",
      "r2 Score of GradientBoostingRegressor() model on test data is  0.7605128401826814\n",
      "----------------------------------------------------------------------------------------------------\n",
      "Mean Square Error of Model is 4438422.495099447\n",
      "----------------------------------------------------------------------------------------------------\n",
      "Mean Absolute Error of Model is  1421.464680126879\n"
     ]
    }
   ],
   "source": [
    "predictor(gbr)"
   ]
  },
  {
   "cell_type": "code",
   "execution_count": 162,
   "id": "9c534d4e",
   "metadata": {},
   "outputs": [
    {
     "name": "stdout",
     "output_type": "stream",
     "text": [
      "r2 Score of KNeighborsRegressor() model on Training data is  0.8448730919664281\n",
      "----------------------------------------------------------------------------------------------------\n",
      "r2 Score of KNeighborsRegressor() model on test data is  0.7600571352047283\n",
      "----------------------------------------------------------------------------------------------------\n",
      "Mean Square Error of Model is 4446868.08870379\n",
      "----------------------------------------------------------------------------------------------------\n",
      "Mean Absolute Error of Model is  1263.206832007487\n"
     ]
    }
   ],
   "source": [
    "predictor(knr)"
   ]
  },
  {
   "cell_type": "code",
   "execution_count": 163,
   "id": "627ce6b5",
   "metadata": {},
   "outputs": [
    {
     "name": "stdout",
     "output_type": "stream",
     "text": [
      "r2 Score of Lasso() model on Training data is  0.6872975860468498\n",
      "----------------------------------------------------------------------------------------------------\n",
      "r2 Score of Lasso() model on test data is  0.6738387967779558\n",
      "----------------------------------------------------------------------------------------------------\n",
      "Mean Square Error of Model is 6044755.061247071\n",
      "----------------------------------------------------------------------------------------------------\n",
      "Mean Absolute Error of Model is  1732.3162802990678\n"
     ]
    }
   ],
   "source": [
    "predictor(ls)"
   ]
  },
  {
   "cell_type": "code",
   "execution_count": 164,
   "id": "4a2ae5f3",
   "metadata": {},
   "outputs": [
    {
     "name": "stdout",
     "output_type": "stream",
     "text": [
      "r2 Score of Ridge() model on Training data is  0.6873328647712726\n",
      "----------------------------------------------------------------------------------------------------\n",
      "r2 Score of Ridge() model on test data is  0.6740135501451382\n",
      "----------------------------------------------------------------------------------------------------\n",
      "Mean Square Error of Model is 6041516.352012772\n",
      "----------------------------------------------------------------------------------------------------\n",
      "Mean Absolute Error of Model is  1731.4647447233363\n"
     ]
    }
   ],
   "source": [
    "predictor(rid)"
   ]
  },
  {
   "cell_type": "code",
   "execution_count": null,
   "id": "044167f4",
   "metadata": {},
   "outputs": [],
   "source": []
  },
  {
   "cell_type": "code",
   "execution_count": null,
   "id": "0a7bb9a4",
   "metadata": {},
   "outputs": [],
   "source": []
  },
  {
   "cell_type": "code",
   "execution_count": 165,
   "id": "cd43ccc5",
   "metadata": {},
   "outputs": [],
   "source": [
    "from sklearn.model_selection import GridSearchCV"
   ]
  },
  {
   "cell_type": "code",
   "execution_count": 166,
   "id": "d2bc1e8b",
   "metadata": {},
   "outputs": [],
   "source": [
    "CB=catboost.CatBoostRegressor(verbose=False)"
   ]
  },
  {
   "cell_type": "code",
   "execution_count": 168,
   "id": "4899d270",
   "metadata": {},
   "outputs": [
    {
     "name": "stdout",
     "output_type": "stream",
     "text": [
      "r2 Score of <catboost.core.CatBoostRegressor object at 0x00000251AE9B9C90> model on Training data is  0.8702835403224438\n",
      "----------------------------------------------------------------------------------------------------\n",
      "r2 Score of <catboost.core.CatBoostRegressor object at 0x00000251AE9B9C90> model on test data is  0.8164886265079454\n",
      "----------------------------------------------------------------------------------------------------\n",
      "Mean Square Error of Model is 3401021.6198439808\n",
      "----------------------------------------------------------------------------------------------------\n",
      "Mean Absolute Error of Model is  1133.370888337167\n"
     ]
    }
   ],
   "source": [
    "predictor(CB)"
   ]
  },
  {
   "cell_type": "code",
   "execution_count": 169,
   "id": "e761589e",
   "metadata": {},
   "outputs": [],
   "source": [
    "parameters={ \"learning_rate\":[0.1,0.3,0.5,0.6,0.7] ,\n",
    "            \"random_state\":[0,42,48,50] ,\n",
    "            \"depth\" : [8,9,10] ,\n",
    "            \"iterations\":[35,40,50]}"
   ]
  },
  {
   "cell_type": "code",
   "execution_count": 170,
   "id": "b5b0dd61",
   "metadata": {},
   "outputs": [],
   "source": [
    "grid_search=GridSearchCV(CB , parameters , cv=5 , n_jobs=-1)"
   ]
  },
  {
   "cell_type": "code",
   "execution_count": 172,
   "id": "d4b4b9df",
   "metadata": {},
   "outputs": [
    {
     "name": "stdout",
     "output_type": "stream",
     "text": [
      "r2 Score of GridSearchCV(cv=5,\n",
      "             estimator=<catboost.core.CatBoostRegressor object at 0x00000251AE9B9C90>,\n",
      "             n_jobs=-1,\n",
      "             param_grid={'depth': [8, 9, 10], 'iterations': [35, 40, 50],\n",
      "                         'learning_rate': [0.1, 0.3, 0.5, 0.6, 0.7],\n",
      "                         'random_state': [0, 42, 48, 50]}) model on Training data is  0.8869121143818279\n",
      "----------------------------------------------------------------------------------------------------\n",
      "r2 Score of GridSearchCV(cv=5,\n",
      "             estimator=<catboost.core.CatBoostRegressor object at 0x00000251AE9B9C90>,\n",
      "             n_jobs=-1,\n",
      "             param_grid={'depth': [8, 9, 10], 'iterations': [35, 40, 50],\n",
      "                         'learning_rate': [0.1, 0.3, 0.5, 0.6, 0.7],\n",
      "                         'random_state': [0, 42, 48, 50]}) model on test data is  0.8074897463106144\n",
      "----------------------------------------------------------------------------------------------------\n",
      "Mean Square Error of Model is 3567798.1281503374\n",
      "----------------------------------------------------------------------------------------------------\n",
      "Mean Absolute Error of Model is  1141.3687342339529\n"
     ]
    }
   ],
   "source": [
    "predictor(grid_search)"
   ]
  },
  {
   "cell_type": "code",
   "execution_count": 173,
   "id": "cf42c962",
   "metadata": {},
   "outputs": [
    {
     "data": {
      "text/plain": [
       "0.8185838045562278"
      ]
     },
     "execution_count": 173,
     "metadata": {},
     "output_type": "execute_result"
    }
   ],
   "source": [
    "grid_search.best_score_"
   ]
  },
  {
   "cell_type": "code",
   "execution_count": 174,
   "id": "5e1c1075",
   "metadata": {},
   "outputs": [
    {
     "data": {
      "text/plain": [
       "{'depth': 10, 'iterations': 50, 'learning_rate': 0.6, 'random_state': 50}"
      ]
     },
     "execution_count": 174,
     "metadata": {},
     "output_type": "execute_result"
    }
   ],
   "source": [
    "grid_search.best_params_"
   ]
  },
  {
   "cell_type": "code",
   "execution_count": 175,
   "id": "795bb929",
   "metadata": {},
   "outputs": [],
   "source": [
    "CB2=catboost.CatBoostRegressor(depth=8 , iterations=50 , learning_rate=0.6 , random_state=48)"
   ]
  },
  {
   "cell_type": "code",
   "execution_count": 176,
   "id": "cf651987",
   "metadata": {},
   "outputs": [],
   "source": [
    "pipe2=Pipeline([\n",
    "    (\"step1\" , step1),\n",
    "    (\"step2\" , step2),\n",
    "    (\"step3\" , CB2 )\n",
    "])"
   ]
  },
  {
   "cell_type": "code",
   "execution_count": 177,
   "id": "b920bfcf",
   "metadata": {},
   "outputs": [],
   "source": [
    "with open(\"Catboosting2.pkl\" , 'wb') as f:\n",
    "    pickle.dump(pipe2 , f)"
   ]
  },
  {
   "cell_type": "code",
   "execution_count": 178,
   "id": "f51e811f",
   "metadata": {},
   "outputs": [],
   "source": [
    "#with open(\"Catboosting2.pkl\" , 'wb') as f:\n",
    "   # pickle.dump(pipe2 , f)"
   ]
  },
  {
   "cell_type": "code",
   "execution_count": null,
   "id": "86e4bde9",
   "metadata": {},
   "outputs": [],
   "source": []
  },
  {
   "cell_type": "code",
   "execution_count": null,
   "id": "34f4a952",
   "metadata": {},
   "outputs": [],
   "source": []
  }
 ],
 "metadata": {
  "kernelspec": {
   "display_name": "Python 3 (ipykernel)",
   "language": "python",
   "name": "python3"
  },
  "language_info": {
   "codemirror_mode": {
    "name": "ipython",
    "version": 3
   },
   "file_extension": ".py",
   "mimetype": "text/x-python",
   "name": "python",
   "nbconvert_exporter": "python",
   "pygments_lexer": "ipython3",
   "version": "3.10.5"
  }
 },
 "nbformat": 4,
 "nbformat_minor": 5
}
